{
 "cells": [
  {
   "cell_type": "code",
   "execution_count": 38,
   "id": "f3d40de2-d378-4fb6-9b83-e811966f9169",
   "metadata": {},
   "outputs": [
    {
     "name": "stderr",
     "output_type": "stream",
     "text": [
      "C:\\Users\\anormand\\AppData\\Local\\Temp\\ipykernel_18544\\1501271089.py:3: DtypeWarning: Columns (3,4) have mixed types. Specify dtype option on import or set low_memory=False.\n",
      "  gbif_vern = pd.read_csv(r\"C:\\Users\\anormand\\Documents\\Projet Python\\Biodiv\\Data\\TAXO_GBIF\\VernacularName.tsv\",\n",
      "C:\\Users\\anormand\\AppData\\Local\\Temp\\ipykernel_18544\\1501271089.py:7: DtypeWarning: Columns (1,2,3,4,5,6,7,8,9,10) have mixed types. Specify dtype option on import or set low_memory=False.\n",
      "  gbif_Distribution = pd.read_csv(r\"C:\\Users\\anormand\\Documents\\Projet Python\\Biodiv\\Data\\TAXO_GBIF\\Distribution.tsv\",\n"
     ]
    }
   ],
   "source": [
    "import pandas as pd\n",
    "\n",
    "gbif_vern = pd.read_csv(r\"C:\\Users\\anormand\\Documents\\Projet Python\\Biodiv\\Data\\TAXO_GBIF\\VernacularName.tsv\",\n",
    "                     delimiter=\"\\t\")\n",
    "gbif_Description = pd.read_csv(r\"C:\\Users\\anormand\\Documents\\Projet Python\\Biodiv\\Data\\TAXO_GBIF\\Description.tsv\",\n",
    "                     delimiter=\"\\t\")\n",
    "gbif_Distribution = pd.read_csv(r\"C:\\Users\\anormand\\Documents\\Projet Python\\Biodiv\\Data\\TAXO_GBIF\\Distribution.tsv\",\n",
    "                     delimiter=\"\\t\")\n",
    "gbif_Reference = pd.read_csv(r\"C:\\Users\\anormand\\Documents\\Projet Python\\Biodiv\\Data\\TAXO_GBIF\\Reference.tsv\",\n",
    "                     delimiter=\"\\t\")"
   ]
  },
  {
   "cell_type": "code",
   "execution_count": 44,
   "id": "48427181-2862-4b27-b5a2-76c34ba8f99b",
   "metadata": {},
   "outputs": [
    {
     "name": "stderr",
     "output_type": "stream",
     "text": [
      "C:\\Users\\anormand\\AppData\\Local\\Temp\\ipykernel_18544\\1503843945.py:3: DtypeWarning: Columns (6,7,8,9,10,13,16,21,22) have mixed types. Specify dtype option on import or set low_memory=False.\n",
      "  gbif_Taxon = pd.read_csv(r\"C:\\Users\\anormand\\Documents\\Projet Python\\Biodiv\\Data\\TAXO_GBIF\\Taxon.tsv\",\n"
     ]
    }
   ],
   "source": [
    "\n",
    "gbif_Taxon = pd.read_csv(r\"C:\\Users\\anormand\\Documents\\Projet Python\\Biodiv\\Data\\TAXO_GBIF\\Taxon.tsv\",\n",
    "                     delimiter=\"\\t\",\n",
    "                    on_bad_lines='skip')\n",
    "gbif_TypesAndSpecimen = pd.read_csv(r\"C:\\Users\\anormand\\Documents\\Projet Python\\Biodiv\\Data\\TAXO_GBIF\\TypesAndSpecimen.tsv\",\n",
    "                     delimiter=\"\\t\")"
   ]
  },
  {
   "cell_type": "code",
   "execution_count": 9,
   "id": "508cbe6a-3137-4107-86e8-e8f8a2acd442",
   "metadata": {},
   "outputs": [],
   "source": [
    "df_biodiv= pd.read_csv(r\"C:\\Users\\anormand\\Documents\\Projet Python\\Biodiv\\Data\\GBIF_Costa_Rica\\data_GBIF_Costa_Rica_codeMaille5Km_periodes.csv\",\n",
    "    dtype={\n",
    "        'nombreObs': int,   # `nombreObs` en float\n",
    "        'speciesKey': int     # `speciesKey` en entier\n",
    "    })"
   ]
  },
  {
   "cell_type": "code",
   "execution_count": 155,
   "id": "b2a0be9b-8a01-438b-aa5e-330a9544e0dd",
   "metadata": {},
   "outputs": [
    {
     "data": {
      "text/html": [
       "<div>\n",
       "<style scoped>\n",
       "    .dataframe tbody tr th:only-of-type {\n",
       "        vertical-align: middle;\n",
       "    }\n",
       "\n",
       "    .dataframe tbody tr th {\n",
       "        vertical-align: top;\n",
       "    }\n",
       "\n",
       "    .dataframe thead th {\n",
       "        text-align: right;\n",
       "    }\n",
       "</style>\n",
       "<table border=\"1\" class=\"dataframe\">\n",
       "  <thead>\n",
       "    <tr style=\"text-align: right;\">\n",
       "      <th></th>\n",
       "      <th>taxonID</th>\n",
       "      <th>vernacularName</th>\n",
       "      <th>language</th>\n",
       "    </tr>\n",
       "  </thead>\n",
       "  <tbody>\n",
       "  </tbody>\n",
       "</table>\n",
       "</div>"
      ],
      "text/plain": [
       "Empty DataFrame\n",
       "Columns: [taxonID, vernacularName, language]\n",
       "Index: []"
      ]
     },
     "execution_count": 155,
     "metadata": {},
     "output_type": "execute_result"
    }
   ],
   "source": [
    "\n",
    "gbif_vern[(gbif_vern['taxonID']==11909571)&(gbif_vern['language']=='fr')]"
   ]
  },
  {
   "cell_type": "code",
   "execution_count": 158,
   "id": "f1cdb931-05bf-43f7-8196-41c24694cbed",
   "metadata": {},
   "outputs": [],
   "source": [
    "gbif_vern=gbif_vern[['taxonID','vernacularName','language']]\n",
    "gbif_vern=gbif_vern[(gbif_vern['language']=='fr')|(gbif_vern['language']=='en')]\n",
    "# Supprimer les doublons sans tenir compte de la casse et remettre des majuscules en début de chaque mot\n",
    "gbif_vern = (\n",
    "    gbif_vern\n",
    "    .assign(vernacularName=gbif_vern['vernacularName'].str.lower())  # Convertir en minuscules pour ignorer la casse\n",
    "    .groupby(['taxonID', 'vernacularName', 'language'], as_index=False)  # Grouper par les colonnes d'intérêt\n",
    "    .size()  # Ajouter une colonne 'size' pour compter les occurrences\n",
    "    .sort_values(by='size', ascending=False)  # Trier par la fréquence des occurrences\n",
    "    .drop(columns='size')  # Supprimer la colonne 'size' après avoir trié\n",
    "    .drop_duplicates(subset=['taxonID', 'vernacularName', 'language'])  # Supprimer les doublons\n",
    "    .assign(vernacularName=lambda df: df['vernacularName'].str.title())  # Mettre des majuscules en début de chaque mot\n",
    ")\n",
    "\n",
    "gbif_vern_grouped = (\n",
    "    gbif_vern\n",
    "    .groupby(['taxonID', 'language'])['vernacularName']\n",
    "    .agg(lambda x: ', '.join(x.dropna()))\n",
    "    .reset_index()\n",
    ")\n",
    "\n",
    "dico_noms_vernaculaires_fr=gbif_vern_grouped[gbif_vern_grouped['language']=='fr']\n",
    "nouveaux_noms_columns = {'vernacularName': 'vernacularName_fr'}\n",
    "dico_noms_vernaculaires_fr = dico_noms_vernaculaires_fr.rename(columns=nouveaux_noms_columns)\n",
    "\n",
    "dico_noms_vernaculaires_en=gbif_vern_grouped[gbif_vern_grouped['language']=='en']\n",
    "nouveaux_noms_columns = {'vernacularName': 'vernacularName_en'}\n",
    "dico_noms_vernaculaires_en = dico_noms_vernaculaires_en.rename(columns=nouveaux_noms_columns)\n",
    "\n",
    "dico_noms_vernaculaires_merged=pd.merge(dico_noms_vernaculaires_fr[['taxonID','vernacularName_fr']],\n",
    "                                        dico_noms_vernaculaires_en[['taxonID','vernacularName_en']],\n",
    "                                        on='taxonID',\n",
    "                                        how=\"outer\")\n"
   ]
  },
  {
   "cell_type": "code",
   "execution_count": 150,
   "id": "8e36c241-eb02-4fba-aeba-3be592cdcde3",
   "metadata": {},
   "outputs": [],
   "source": [
    "nouveaux_noms_columns = {'speciesKey': 'taxonID'}\n",
    "df_biodiv = df_biodiv.rename(columns=nouveaux_noms_columns)\n",
    "liste_espece_locale=df_biodiv['taxonID'].unique()\n",
    "dico_noms_vernaculaires=gbif_vern_grouped[gbif_vern_grouped['taxonID'].isin(liste_espece_locale)]\n"
   ]
  },
  {
   "cell_type": "code",
   "execution_count": 160,
   "id": "9ca47e7c-459c-4434-8c32-ea443de7306c",
   "metadata": {},
   "outputs": [
    {
     "data": {
      "text/html": [
       "<div>\n",
       "<style scoped>\n",
       "    .dataframe tbody tr th:only-of-type {\n",
       "        vertical-align: middle;\n",
       "    }\n",
       "\n",
       "    .dataframe tbody tr th {\n",
       "        vertical-align: top;\n",
       "    }\n",
       "\n",
       "    .dataframe thead th {\n",
       "        text-align: right;\n",
       "    }\n",
       "</style>\n",
       "<table border=\"1\" class=\"dataframe\">\n",
       "  <thead>\n",
       "    <tr style=\"text-align: right;\">\n",
       "      <th></th>\n",
       "      <th>taxonID</th>\n",
       "      <th>vernacularName_fr</th>\n",
       "      <th>vernacularName_en</th>\n",
       "    </tr>\n",
       "  </thead>\n",
       "  <tbody>\n",
       "    <tr>\n",
       "      <th>142897</th>\n",
       "      <td>11909571</td>\n",
       "      <td>NaN</td>\n",
       "      <td>Zeledon’S Mouse Opossum, Zeledons Zwergbeutelr...</td>\n",
       "    </tr>\n",
       "  </tbody>\n",
       "</table>\n",
       "</div>"
      ],
      "text/plain": [
       "         taxonID vernacularName_fr  \\\n",
       "142897  11909571               NaN   \n",
       "\n",
       "                                        vernacularName_en  \n",
       "142897  Zeledon’S Mouse Opossum, Zeledons Zwergbeutelr...  "
      ]
     },
     "execution_count": 160,
     "metadata": {},
     "output_type": "execute_result"
    }
   ],
   "source": [
    "dico_noms_vernaculaires_merged[(dico_noms_vernaculaires_merged['taxonID']==11909571)]"
   ]
  },
  {
   "cell_type": "code",
   "execution_count": null,
   "id": "93354979-0422-4450-9334-8ea413ae013f",
   "metadata": {},
   "outputs": [],
   "source": [
    "\n",
    "nouveaux_noms_columns = {'speciesKey': 'taxonID'}\n",
    "df_biodiv = df_biodiv.rename(columns=nouveaux_noms_columns)\n",
    "\n",
    "liste_espece_locale=df_biodiv['taxonID'].unique()\n",
    "dico_taxo_local=dico_taxo[dico_taxo['taxonID'].isin(liste_espece_locale)]"
   ]
  }
 ],
 "metadata": {
  "kernelspec": {
   "display_name": "Python 3 (ipykernel)",
   "language": "python",
   "name": "python3"
  },
  "language_info": {
   "codemirror_mode": {
    "name": "ipython",
    "version": 3
   },
   "file_extension": ".py",
   "mimetype": "text/x-python",
   "name": "python",
   "nbconvert_exporter": "python",
   "pygments_lexer": "ipython3",
   "version": "3.12.4"
  }
 },
 "nbformat": 4,
 "nbformat_minor": 5
}
