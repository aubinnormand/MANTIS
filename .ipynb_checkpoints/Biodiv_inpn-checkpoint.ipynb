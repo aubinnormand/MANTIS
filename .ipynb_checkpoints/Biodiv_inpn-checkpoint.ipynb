{
 "cells": [
  {
   "cell_type": "markdown",
   "id": "1e48e8fd-d8bc-4c6b-a95f-bd8f52ad1690",
   "metadata": {},
   "source": [
    "## IMPORTATION DES BIBLIOTHEQUES ET PARAMETRES GLOBAUX"
   ]
  },
  {
   "cell_type": "code",
   "execution_count": 20,
   "id": "f83a514f-cc2b-43b8-8842-44667588aa94",
   "metadata": {},
   "outputs": [
    {
     "name": "stdout",
     "output_type": "stream",
     "text": [
      "Le répertoire existe déjà à C:/Users/anormand/Documents/Projet Python/Biodiv/Resultats/results_131124\n"
     ]
    }
   ],
   "source": [
    "import os \n",
    "import pandas as pd \n",
    "import numpy as np\n",
    "import re\n",
    "import matplotlib.pyplot as plt\n",
    "import geopandas as gpd\n",
    "import importlib\n",
    "import time\n",
    "from datetime import datetime\n",
    "from matplotlib.colors import LinearSegmentedColormap\n",
    "\n",
    "%matplotlib qt\n",
    "plt.rcParams['font.family'] = 'serif'\n",
    "plt.rcParams['font.serif'] = ['Times New Roman']\n",
    "plt.rcParams.update({'font.size': 20})\n",
    "\n",
    "pd.set_option('display.max_rows', 100)\n",
    "\n",
    "# Obtenir la date du jour dans le format jjmmaaa\n",
    "date_du_jour = datetime.now().strftime(\"%d%m%y\")\n",
    "\n",
    "# Afficher les milliers avec un espace\n",
    "pd.options.display.float_format = '{: .2f}'.format\n",
    "\n",
    "path = 'C:/Users/anormand/Documents/Projet Python/Biodiv/Data'  # Remplace par le chemin vers ton fichier\n",
    "\n",
    "# Créer le chemin dynamique\n",
    "save_path = f'C:/Users/anormand/Documents/Projet Python/Biodiv/Resultats/results_{date_du_jour}'\n",
    "\n",
    "# Vérifiez si le répertoire n'existe pas déjà\n",
    "if not os.path.exists(save_path):\n",
    "    # Si le répertoire n'existe pas, créez-le\n",
    "    os.makedirs(save_path)\n",
    "    print(\"Répertoire créé avec succès à\", save_path)\n",
    "else:        print(\"Le répertoire existe déjà à\", save_path)\n"
   ]
  },
  {
   "cell_type": "code",
   "execution_count": 4,
   "id": "a721d9e4-0464-417b-bfb3-c8fe0f8f90d9",
   "metadata": {},
   "outputs": [],
   "source": [
    "### Importation des fonctions définies dans les fichiers biodiv ###\n",
    "import affichage_carte_biodiv\n",
    "importlib.reload(affichage_carte_biodiv)\n",
    "from affichage_carte_biodiv import (\n",
    "    configurer_carte,\n",
    "    ajouter_couche_SIG,\n",
    "    ajouter_couche_continue,\n",
    "    ajouter_couche_discrete,\n",
    "    ajouter_couche_statut,\n",
    "    ajouter_couche_point,\n",
    "    afficher_carte_defaut\n",
    ")\n",
    "import normalisation_biodiv\n",
    "importlib.reload(normalisation_biodiv)\n",
    "from normalisation_biodiv import (\n",
    "    normaliser_par_maille,\n",
    "    normaliser_par_maille_et_clade,\n",
    "    normaliser_par_espece,\n",
    "    normaliser_par_clade,\n",
    "    normaliser_unique,\n",
    "    normaliser_log,\n",
    "    normaliser_par_periode\n",
    ")\n",
    "import exploration_biodiv\n",
    "importlib.reload(exploration_biodiv)\n",
    "from exploration_biodiv import (\n",
    "    filtrer_top,\n",
    "    afficher_top_especes,\n",
    "    chercher_espece,\n",
    "    explorer_clade,\n",
    "    chercher_especes_protegees\n",
    ")\n",
    "import correlation_prediction\n",
    "importlib.reload(correlation_prediction)\n",
    "from correlation_prediction import (\n",
    "    calculer_matrice_correlation,\n",
    "    calculer_correlation_sujet,\n",
    "    recalculer_nombreObs_par_correlation,\n",
    "    calculer_prediction,\n",
    "    calculer_seuil,\n",
    "    recherche_espece_absente\n",
    ")\n",
    "import biodiversite_endemisme_biodiv\n",
    "importlib.reload(biodiversite_endemisme_biodiv)\n",
    "from biodiversite_endemisme_biodiv import (\n",
    "    calculer_shannon,\n",
    "    calculer_simpson,\n",
    "    calculer_WE,\n",
    "    calculer_indices\n",
    ")\n",
    "import clustering_geo_biodiv\n",
    "importlib.reload(clustering_geo_biodiv)\n",
    "from clustering_geo_biodiv import (\n",
    "    analyser_composantes_principales,\n",
    "    former_cluster_biogeo,\n",
    "    determiner_k,\n",
    "    afficher_composition_cluster\n",
    ")\n",
    "import clustering_espece_biodiv\n",
    "importlib.reload(clustering_espece_biodiv)\n",
    "from clustering_espece_biodiv import (\n",
    "    generer_dendogram,\n",
    "    former_cluster_espece,\n",
    "    chercher_numcluster_espece,\n",
    "    lister_especes_dans_cluster,\n",
    "    grouper_dans_maille,\n",
    "    etude_cluster_local,\n",
    "    chercher_especes_pas_presentes,\n",
    "    chercher_zone_espece_pas_presente\n",
    ")\n",
    "import fonctions_annexes_biodiv\n",
    "importlib.reload(fonctions_annexes_biodiv)\n",
    "from fonctions_annexes_biodiv import (\n",
    "    round_to_sig,\n",
    "    generer_dictionnaire_taxonomie,\n",
    "    afficher_dataframe,\n",
    "    completer_df,\n",
    "    lister_mailles_dans_site,\n",
    "    ajouter_nom_site_df\n",
    ")\n",
    "\n",
    "import evolution_temporelle\n",
    "importlib.reload(evolution_temporelle)\n",
    "from evolution_temporelle import (\n",
    "    suivre_disparition_geo,\n",
    "    determiner_statut\n",
    ")"
   ]
  },
  {
   "cell_type": "markdown",
   "id": "89c4700d-d6bd-4362-8f12-83b763d889af",
   "metadata": {},
   "source": [
    "## IMPORTATION DES DONNEES"
   ]
  },
  {
   "cell_type": "code",
   "execution_count": null,
   "id": "e8db73f2-3c4c-4d88-bacc-699375e7f8cd",
   "metadata": {},
   "outputs": [],
   "source": [
    "### Importer directement toutes les données ###\n",
    "df_inpn = pd.DataFrame()\n",
    "\n",
    "path='C:/Users/anormand/Documents/Projet Python/Biodiv'\n",
    "\n",
    "df_inpn = pd.read_csv(path+'/Data/format2/data_INPN_1980_all.csv',dtype=str)"
   ]
  },
  {
   "cell_type": "code",
   "execution_count": 21,
   "id": "5599688e-2196-49d8-8d0b-96890d16869c",
   "metadata": {},
   "outputs": [],
   "source": [
    "### Importer les données de GBIF ###\n",
    "country='Costa_Rica'\n",
    "country_code=\"CRI\"\n",
    "path_data=path+'/GBIF_'+country+'/'\n",
    "cle_ID='speciesKey'\n",
    "cle_geo='codeMaille5Km'\n",
    "\n",
    "# Chargement des donnees géographiques\n",
    "# Charger les données géographiques des mailles 10 km\n",
    "mailles_fp = path_data+'\\\\SIG\\\\country_grid_5km.geojson'  # Remplace par le chemin vers ton fichier\n",
    "carte_maille = gpd.read_file(mailles_fp)\n",
    "\n",
    "xlim_min=-9.7e6\n",
    "xlim_max=-9.12e6\n",
    "ylim_min=0.85e6\n",
    "ylim_max=1.3e6\n",
    "\n",
    "# Création du DataFrame\n",
    "df_biodiv_periode = pd.DataFrame()\n",
    "\n",
    "df_biodiv_periode = pd.read_csv(\n",
    "    path_data  + 'data_GBIF_Costa_Rica_codeMaille5Km_periodes_all.csv',\n",
    "    dtype={\n",
    "        'nombreObs': int,   # `nombreObs` en float\n",
    "        'speciesKey': int     # `speciesKey` en entier\n",
    "    }\n",
    ")\n",
    "#generer le dicotionnaire d'espece\n",
    "dico_taxo=generer_dictionnaire_taxonomie(df_biodiv_periode,cle_ID)\n",
    "\n",
    "df_biodiv_sansperiode = df_biodiv_periode.groupby([cle_geo,cle_ID],as_index=False).agg({'nombreObs': 'sum'})\n",
    "df_biodiv_sansperiode=pd.merge(df_biodiv_sansperiode,dico_taxo,on=cle_ID)"
   ]
  },
  {
   "cell_type": "code",
   "execution_count": 22,
   "id": "e2f05b01-ab9d-43f3-ac6d-7e3e00bd5f10",
   "metadata": {},
   "outputs": [],
   "source": [
    "# Load the world boundaries\n",
    "world_geo = gpd.read_file(path+\"/SIG_Global/world-administrative-boundaries.geojson\")\n",
    "\n",
    "# Load the world boundaries\n",
    "eez_geo = gpd.read_file(path+\"/SIG_Global/eez_v11.gpkg\")\n",
    "eez_geo=eez_geo[eez_geo['ISO_TER1']==country_code]"
   ]
  },
  {
   "cell_type": "code",
   "execution_count": 26,
   "id": "b56f9dc6-d0a8-48d7-b936-1a21b7f9b415",
   "metadata": {},
   "outputs": [
    {
     "data": {
      "text/html": [
       "<div>\n",
       "<style scoped>\n",
       "    .dataframe tbody tr th:only-of-type {\n",
       "        vertical-align: middle;\n",
       "    }\n",
       "\n",
       "    .dataframe tbody tr th {\n",
       "        vertical-align: top;\n",
       "    }\n",
       "\n",
       "    .dataframe thead th {\n",
       "        text-align: right;\n",
       "    }\n",
       "</style>\n",
       "<table border=\"1\" class=\"dataframe\">\n",
       "  <thead>\n",
       "    <tr style=\"text-align: right;\">\n",
       "      <th></th>\n",
       "      <th>MRGID</th>\n",
       "      <th>GEONAME</th>\n",
       "      <th>MRGID_TER1</th>\n",
       "      <th>POL_TYPE</th>\n",
       "      <th>MRGID_SOV1</th>\n",
       "      <th>TERRITORY1</th>\n",
       "      <th>ISO_TER1</th>\n",
       "      <th>SOVEREIGN1</th>\n",
       "      <th>MRGID_TER2</th>\n",
       "      <th>MRGID_SOV2</th>\n",
       "      <th>...</th>\n",
       "      <th>ISO_SOV1</th>\n",
       "      <th>ISO_SOV2</th>\n",
       "      <th>ISO_SOV3</th>\n",
       "      <th>UN_SOV1</th>\n",
       "      <th>UN_SOV2</th>\n",
       "      <th>UN_SOV3</th>\n",
       "      <th>UN_TER1</th>\n",
       "      <th>UN_TER2</th>\n",
       "      <th>UN_TER3</th>\n",
       "      <th>geometry</th>\n",
       "    </tr>\n",
       "  </thead>\n",
       "  <tbody>\n",
       "    <tr>\n",
       "      <th>73</th>\n",
       "      <td>8424.00</td>\n",
       "      <td>Costa Rican Exclusive Economic Zone</td>\n",
       "      <td>2162.00</td>\n",
       "      <td>200NM</td>\n",
       "      <td>2162.00</td>\n",
       "      <td>Costa Rica</td>\n",
       "      <td>CRI</td>\n",
       "      <td>Costa Rica</td>\n",
       "      <td>0.00</td>\n",
       "      <td>0.00</td>\n",
       "      <td>...</td>\n",
       "      <td>CRI</td>\n",
       "      <td>None</td>\n",
       "      <td>None</td>\n",
       "      <td>188</td>\n",
       "      <td>NaN</td>\n",
       "      <td>NaN</td>\n",
       "      <td>188.00</td>\n",
       "      <td>NaN</td>\n",
       "      <td>NaN</td>\n",
       "      <td>MULTIPOLYGON (((-85.85967 11.04671, -85.85689 ...</td>\n",
       "    </tr>\n",
       "    <tr>\n",
       "      <th>115</th>\n",
       "      <td>48968.00</td>\n",
       "      <td>Joint regime area Costa Rica / Ecuador (Galapa...</td>\n",
       "      <td>2162.00</td>\n",
       "      <td>Joint regime</td>\n",
       "      <td>2162.00</td>\n",
       "      <td>Costa Rica</td>\n",
       "      <td>CRI</td>\n",
       "      <td>Costa Rica</td>\n",
       "      <td>5660.00</td>\n",
       "      <td>2166.00</td>\n",
       "      <td>...</td>\n",
       "      <td>CRI</td>\n",
       "      <td>ECU</td>\n",
       "      <td>None</td>\n",
       "      <td>188</td>\n",
       "      <td>218.00</td>\n",
       "      <td>NaN</td>\n",
       "      <td>188.00</td>\n",
       "      <td>NaN</td>\n",
       "      <td>NaN</td>\n",
       "      <td>MULTIPOLYGON (((-90.135 4.61694, -90.04306 4.4...</td>\n",
       "    </tr>\n",
       "  </tbody>\n",
       "</table>\n",
       "<p>2 rows × 32 columns</p>\n",
       "</div>"
      ],
      "text/plain": [
       "        MRGID                                            GEONAME  MRGID_TER1  \\\n",
       "73    8424.00                Costa Rican Exclusive Economic Zone     2162.00   \n",
       "115  48968.00  Joint regime area Costa Rica / Ecuador (Galapa...     2162.00   \n",
       "\n",
       "         POL_TYPE  MRGID_SOV1  TERRITORY1 ISO_TER1  SOVEREIGN1  MRGID_TER2  \\\n",
       "73          200NM     2162.00  Costa Rica      CRI  Costa Rica        0.00   \n",
       "115  Joint regime     2162.00  Costa Rica      CRI  Costa Rica     5660.00   \n",
       "\n",
       "     MRGID_SOV2  ... ISO_SOV1 ISO_SOV2 ISO_SOV3  UN_SOV1  UN_SOV2 UN_SOV3  \\\n",
       "73         0.00  ...      CRI     None     None      188      NaN     NaN   \n",
       "115     2166.00  ...      CRI      ECU     None      188   218.00     NaN   \n",
       "\n",
       "    UN_TER1 UN_TER2  UN_TER3  \\\n",
       "73   188.00     NaN      NaN   \n",
       "115  188.00     NaN      NaN   \n",
       "\n",
       "                                              geometry  \n",
       "73   MULTIPOLYGON (((-85.85967 11.04671, -85.85689 ...  \n",
       "115  MULTIPOLYGON (((-90.135 4.61694, -90.04306 4.4...  \n",
       "\n",
       "[2 rows x 32 columns]"
      ]
     },
     "execution_count": 26,
     "metadata": {},
     "output_type": "execute_result"
    }
   ],
   "source": [
    "eez_geo"
   ]
  },
  {
   "cell_type": "code",
   "execution_count": null,
   "id": "0b65729a",
   "metadata": {
    "scrolled": true
   },
   "outputs": [],
   "source": [
    "### Importer les données par groupe ###\n",
    "path='C:/Users/anormand/Documents/Projet Python/Biodiv/Data/'\n",
    "cle_ID='cdRef'\n",
    "cle_geo='codeMaille10Km'\n",
    "\n",
    "# Chargement des donnees géographiques\n",
    "# Charger les données géographiques des mailles 10 km\n",
    "mailles_fp = path+r'SIG\\L93_10X10.shp'  # Remplace par le chemin vers ton fichier\n",
    "carte_maille = gpd.read_file(mailles_fp)\n",
    "nouveaux_noms_columns = {'CD_SIG': 'codeMaille10Km'}\n",
    "carte_maille = carte_maille.rename(columns=nouveaux_noms_columns)\n",
    "\n",
    "bioregion_fichier = r'C:\\Users\\anormand\\Documents\\Projet Python\\Biodiv\\Data\\SIG\\region_biogeographique.shp'  # Remplace par le chemin vers ton fichier\n",
    "bioregion_gpd = gpd.read_file(bioregion_fichier)\n",
    "\n",
    "departement_fichier = r'C:\\Users\\anormand\\Documents\\Projet Python\\Biodiv\\Data\\SIG\\carte_departements.geojson'  # Remplace par le chemin vers ton fichier\n",
    "departement_gpd = gpd.read_file(departement_fichier)\n",
    "\n",
    "PNR_fichier = r'C:\\Users\\anormand\\Documents\\Projet Python\\Biodiv\\Data\\SIG\\N_ENP_PNR_S_000.shx'  # Remplace par le chemin vers ton fichier\n",
    "PNR_gpd = gpd.read_file(PNR_fichier)\n",
    "\n",
    "PN_fichier = r'C:\\Users\\anormand\\Documents\\Projet Python\\Biodiv\\Data\\SIG\\N_ENP_PN_S_000.shx'  # Remplace par le chemin vers ton fichier\n",
    "PN_gpd = gpd.read_file(PN_fichier)\n",
    "\n",
    "PN_et_PNR_gpd = pd.concat([PNR_gpd, PN_gpd], axis=1)\n",
    "\n",
    "# Chargement des donnees d'observation\n",
    "dossier='format_maille_espece_periode_1800_1990_2010_2024/'\n",
    "# Création du DataFrame\n",
    "df_inpn_periode = pd.DataFrame()\n",
    "# Nom des groupes\n",
    "groupes= ['mammiferes', 'crustaces', 'escargots', 'fonges', 'reptiles', 'insectes','poissons','oiseaux','plantes','autres']\n",
    "\n",
    "for groupe in groupes:\n",
    "    # Charger les données de la classe\n",
    "    df_temp = pd.read_csv(path+dossier+'data_INPN_'+cle_geo+'_periodes_'+groupe+'.csv',dtype=str)\n",
    "    df_temp['nombreObs']=df_temp['nombreObs'].astype(float)\n",
    "    # Ajouter le DataFrame à la liste des DataFrames\n",
    "    df_inpn_periode = pd.concat([df_inpn_periode, df_temp], ignore_index=True)\n",
    "\n",
    "# garder seulement les données correspodnant à la france metropolitaine\n",
    "if cle_geo=='codeMaille10Km':\n",
    "    df_inpn_france=df_inpn_periode[df_inpn_periode['codeMaille10Km'].isin(carte_maille['codeMaille10Km'])]\n",
    "\n",
    "if cle_geo=='codeDepartement':\n",
    "    df_inpn_periode.rename(columns={'codeInseeDepartement': 'codeDepartement'}, inplace=True)\n",
    "    departement_gpd.rename(columns={'code': 'codeDepartement'}, inplace=True)\n",
    "    df_inpn_france=df_inpn_periode[df_inpn_periode['codeDepartement'].isin(departement_gpd['codeDepartement'])]\n",
    "\n",
    "# Garder seulement le premier nom Vernaculaire\n",
    "df_inpn_france.loc[:, 'nomVernaculaire'] = df_inpn_france['nomVernaculaire'].str.split(',').str[0]\n",
    "\n",
    "#generer le dicotionnaire d'espece\n",
    "dico_taxo=generer_dictionnaire_taxonomie(df_inpn_france,cle_ID)\n",
    "\n",
    "# permet de garder seulement les variables que l'on souhaite\n",
    "df_inpn_periode = df_inpn_france.groupby([cle_geo,cle_ID,'periode'],as_index=False).agg({'nombreObs': 'sum'})\n",
    "df_inpn_periode=pd.merge(df_inpn_periode,dico_taxo,on=cle_ID)\n",
    "\n",
    "df_inpn_sansperiode = df_inpn_france.groupby([cle_geo,cle_ID],as_index=False).agg({'nombreObs': 'sum'})\n",
    "df_inpn_sansperiode=pd.merge(df_inpn_sansperiode,dico_taxo,on=cle_ID)"
   ]
  },
  {
   "cell_type": "markdown",
   "id": "ac839051-effc-4a4f-b4ff-071b5576f149",
   "metadata": {},
   "source": [
    "NORMALISATION DES DONNEES"
   ]
  },
  {
   "cell_type": "code",
   "execution_count": 23,
   "id": "d25c9384-c959-4d6f-b7f4-854e2aa779b6",
   "metadata": {
    "scrolled": true
   },
   "outputs": [
    {
     "name": "stdout",
     "output_type": "stream",
     "text": [
      "Le nombre d observations total par espèce est fixé à 10 000\n",
      "Il y a en moyenne 105266.3 observations par kingdom par maille\n"
     ]
    }
   ],
   "source": [
    "### Filtrage et normalisation des données ###\n",
    "\n",
    "#Choix du dataframe à utiliser\n",
    "df_biodiv=df_biodiv_sansperiode.copy()\n",
    "\n",
    "#taux_min=0.5\n",
    "#df_inpn=ajouter_nom_site_df(df_biodiv,carte_maille,PN_et_PNR_gpd,taux_min,cle_geo)\n",
    "\n",
    "# filtrer les règnes\n",
    "df_biodiv=df_biodiv[(df_biodiv['kingdom']=='Animalia')|(df_biodiv['kingdom']=='Plantae')|(df_biodiv['kingdom']=='Fungi')]\n",
    "df_biodiv=df_biodiv[(df_biodiv['kingdom']=='Animalia')|(df_biodiv['kingdom']=='Plantae')]\n",
    "\n",
    "# Normalisations des données\n",
    "df_biodiv=normaliser_unique(df_biodiv)\n",
    "df_biodiv=normaliser_par_espece(df_biodiv,cle_ID)\n",
    "df_biodiv=normaliser_par_maille_et_clade(df_biodiv, cle_geo, clade_col='kingdom', observation_col='nombreObs')\n",
    "#df_biodiv=normaliser_par_maille(df_biodiv, cle_geo='NOM_SITE', observation_col='nombreObs')\n",
    "df_biodiv=normaliser_log(df_biodiv,'nombreObs_norm_par_maille_et_kingdom')\n",
    "\"\"\"\n",
    "df_inpn=normaliser_par_periode(df_inpn)\n",
    "df_inpn=normaliser_par_periode(df_inpn,'nombreObs_norm_par_espece')\n",
    "df_inpn=normaliser_par_periode(df_inpn,'nombreObs_norm_par_maille_et_regne')\n",
    "\"\"\"\n",
    "liste_nombres=[col for col in df_biodiv.columns if 'nombreObs' in col]"
   ]
  },
  {
   "cell_type": "markdown",
   "id": "9c685031-fd4d-4a35-b98d-69266e4857c4",
   "metadata": {},
   "source": [
    "## EXPLORATION DES DONNEES  "
   ]
  },
  {
   "cell_type": "code",
   "execution_count": null,
   "id": "e8ac69bd-3578-4c9a-bb01-f2e9ee1c0ebe",
   "metadata": {},
   "outputs": [],
   "source": [
    "# Créer des filtres prédéfinis d'espèces\n",
    "print('arbres')\n",
    "df_arbres=df_inpn[(df_inpn['classe']=='Pinopsida')|(df_inpn['ordre']=='Fagales')|(df_inpn['genre']=='Crataegus')|(df_inpn['genre']=='Prunus')|(df_inpn['genre']=='Malus')|(df_inpn['genre']=='Sorbus')|(df_inpn['genre']=='Pyrus')]\n",
    "\n",
    "print('plantes')\n",
    "df_plantes=df_inpn[(df_inpn['regne']=='Plantae')]\n",
    "\n",
    "print('mammifères')\n",
    "df_mammifères=df_inpn[(df_inpn['classe']=='Mammalia')]\n",
    "\n",
    "print('poissons')\n",
    "df_poissons=df_inpn[(df_inpn['classe']=='Actinopterygii')|(df_inpn['classe']=='Myxini')|(df_inpn['classe']=='Leptocardii')|\n",
    "                    (df_inpn['classe']=='Holocephali')|(df_inpn['classe']=='Dipneusti')|(df_inpn['classe']=='Petromyzonti')|(df_inpn['classe']=='Elasmobranchii')]\n",
    "\n",
    "print('oiseaux')\n",
    "df_oiseaux=df_inpn[(df_inpn['classe']=='Aves')]\n",
    "\n",
    "print('reptiles')\n",
    "df_reptiles=df_inpn[(df_inpn['ordre']=='Chelonii')|(df_inpn['ordre']=='Squamata')|(df_inpn['ordre']=='Crocodylia')]\n",
    "\n",
    "print('arthropodes')\n",
    "df_arthropodes=df_inpn[(df_inpn['classe']=='Insecta')|(df_inpn['classe']=='Arachnida')|\n",
    "                        (df_inpn['classe']=='Malacostraca')|(df_inpn['classe']=='Branchiopoda')|\n",
    "                        (df_inpn['classe']=='Chilopoda')|(df_inpn['classe']=='Diplopoda')]\n",
    "\n",
    "print('graminees')\n",
    "df_graminees=df_inpn[(df_inpn['famille']=='Poaceae')]\n",
    "\n",
    "print('mousses')\n",
    "df_mousses=df_inpn[(df_inpn['ordre']=='Sphagnales')|(df_inpn['ordre']=='Hypnales')|\n",
    "                    (df_inpn['ordre']=='Dicranales')|(df_inpn['ordre']=='Bryales')|\n",
    "                    (df_inpn['ordre']=='Buxbaumiales')|(df_inpn['ordre']=='Diphysciales')|\n",
    "                    (df_inpn['ordre']=='Grimmiales')|(df_inpn['ordre']=='Andreaeales')|\n",
    "                    (df_inpn['ordre']=='Polytrichales')|(df_inpn['ordre']=='Hookeriales')]\n",
    "\n",
    "print('amphibiens')\n",
    "df_amphibiens=df_inpn[(df_inpn['classe']=='Amphibia')]\n",
    "\n",
    "print('mollusques')\n",
    "df_mollusques=df_inpn[(df_inpn['classe']=='Gastropoda')|(df_inpn['classe']=='Bivalvia')|\n",
    "                    (df_inpn['classe']=='Cephalopoda')|(df_inpn['classe']=='Monoplacophora')|\n",
    "                    (df_inpn['classe']=='Scaphopoda')]\n",
    "\n",
    "\n",
    "print('Araignées')\n",
    "df_araignées=df_inpn[(df_inpn['ordre']=='Araneae')]\n",
    "\n",
    "print('Champignons')\n",
    "df_champignons=df_inpn[(df_inpn['regne']=='Fungi')]\n",
    "\n",
    "print('Papillons')\n",
    "df_papillons=df_inpn[(df_inpn['ordre']=='Lepidoptera')]\n"
   ]
  },
  {
   "cell_type": "code",
   "execution_count": null,
   "id": "22f07d70",
   "metadata": {
    "scrolled": true
   },
   "outputs": [],
   "source": [
    "# Afficher le top des espèces les plus observées\n",
    "print('nombre d\"espèces observées :',len(df_biodiv[cle_ID].unique()))\n",
    "col_valeur='nombreObs'\n",
    "top_espece=afficher_top_especes(df_biodiv,dico_taxo,col_valeur,cle_ID)\n",
    "afficher_dataframe(top_espece,[col_valeur,cle_ID,'species','family','order','class','kingdom'],col_valeur).head(50)"
   ]
  },
  {
   "cell_type": "code",
   "execution_count": null,
   "id": "ebcfe27b-aaa6-4a18-8c82-293116e326d5",
   "metadata": {
    "scrolled": true
   },
   "outputs": [],
   "source": [
    "# Chercher les espèces à partir d'un mot \n",
    "col_valeur='nombreObs'\n",
    "resultat_recherche=chercher_espece(df_inpn,dico_taxo,'Isopoda',col_valeur,cle_ID)\n",
    "afficher_dataframe(resultat_recherche,[col_valeur,cle_ID,'nomVernaculaire','nomScientifique','famille','ordre','classe','regne','especeProtegee'],col_valeur).head(50)"
   ]
  },
  {
   "cell_type": "code",
   "execution_count": null,
   "id": "bcbcbefb-93fe-41db-8efe-8cfa3c7d4e33",
   "metadata": {
    "scrolled": true
   },
   "outputs": [],
   "source": [
    "# Afficher les sous clades du clade choisi, le nombre d'espèces et le nombre d'observations\n",
    "# Liste des clades = ['all','regne', 'classe', 'ordre', 'famille', 'genre','nomScientifique','nomVernaculaire']\n",
    "clade = 'regne'\n",
    "taxon='Fungi'\n",
    "\n",
    "explorer_clade(df_inpn,clade,taxon)"
   ]
  },
  {
   "cell_type": "code",
   "execution_count": null,
   "id": "60e6b16a-2099-4891-9397-d701722b7b1b",
   "metadata": {
    "scrolled": true
   },
   "outputs": [],
   "source": [
    "# Afficher la carte avec les mailles\n",
    "afficher_carte_maille(carte_maille)"
   ]
  },
  {
   "cell_type": "code",
   "execution_count": null,
   "id": "9fab0277-c0a1-44cb-a254-3930d6dc0e96",
   "metadata": {
    "jupyter": {
     "source_hidden": true
    }
   },
   "outputs": [],
   "source": [
    "# Listes prédéfinies de codes\n",
    "liste_geo_PN_Calanques=['10kmL93E088N624','10kmL93E090N624',\n",
    "             '10kmL93E087N623','10kmL93E088N623','10kmL93E089N623','10kmL93E090N623','10kmL93E091N623',\n",
    "             '10kmL93E086N622','10kmL93E087N622','10kmL93E088N622','10kmL93E089N622','10kmL93E090N622','10kmL93E091N622',\n",
    "             '10kmL93E091N620','10kmL93E087N622','10kmL93E088N621','10kmL93E089N621','10kmL93E090N621','10kmL93E091N621',\n",
    "            ]\n",
    "liste_geo_PNR_Vosges=['10kmL93E100N680','10kmL93E101N680',\n",
    "             '10kmL93E100N679','10kmL93E101N679','10kmL93E098N678','10kmL93E099N678','10kmL93E100N678','10kmL93E101N678',\n",
    "             '10kmL93E098N677','10kmL93E099N677','10kmL93E100N677','10kmL93E101N677',\n",
    "             '10kmL93E098N676','10kmL93E099N676','10kmL93E100N676','10kmL93E101N676',\n",
    "             '10kmL93E098N675','10kmL93E099N675','10kmL93E100N675','10kmL93E097N675',\n",
    "            ]\n",
    "liste_geo_PN_Cevennes=['10kmL93E073N632', '10kmL93E073N633', '10kmL93E073N634', '10kmL93E073N635', '10kmL93E073N636', '10kmL93E073N637',\n",
    "            '10kmL93E074N632', '10kmL93E074N633', '10kmL93E074N634', '10kmL93E074N635', '10kmL93E074N636', '10kmL93E074N637',\n",
    "            '10kmL93E075N632', '10kmL93E075N633', '10kmL93E075N634', '10kmL93E075N635', '10kmL93E075N636', '10kmL93E075N637',\n",
    "            '10kmL93E076N632', '10kmL93E076N633', '10kmL93E076N634', '10kmL93E076N635', '10kmL93E076N636', '10kmL93E076N637',\n",
    "            '10kmL93E077N632', '10kmL93E077N633', '10kmL93E077N634', '10kmL93E077N635', '10kmL93E077N636', '10kmL93E077N637',\n",
    "            '10kmL93E078N635','10kmL93E079N635','10kmL93E079N636','10kmL93E078N636'\n",
    "            ]"
   ]
  },
  {
   "cell_type": "code",
   "execution_count": null,
   "id": "aac62a66-ad32-4987-856e-6feb447f9524",
   "metadata": {},
   "outputs": [],
   "source": [
    "# Filtrer une liste de mailles à étudier\n",
    "liste_codes=['10kmL93E089N623']\n",
    "col_valeur='nombreObs_norm_par_maille_et_regne'\n",
    "\n",
    "df_filt=df_inpn[df_inpn[cle_geo].isin(liste_codes)]\n",
    "df_maille=df_filt.groupby(cle_ID)[col_valeur].sum()\n",
    "\n",
    "df_dico=generer_dictionnaire_taxonomie(df_filt,cle_ID)\n",
    "df_maille=pd.merge(df_maille,df_dico,on=cle_ID)\n",
    "\n",
    "afficher_dataframe(df_maille,[col_valeur,cle_ID,'nomVernaculaire','nomScientifique','famille','ordre','classe','regne','especeProtegee'],col_sort=col_valeur).head(10)"
   ]
  },
  {
   "cell_type": "code",
   "execution_count": null,
   "id": "1b507e59-8794-43fa-8481-3686ac936c97",
   "metadata": {
    "jupyter": {
     "source_hidden": true
    }
   },
   "outputs": [],
   "source": [
    "# Rechercher les espèces protégées présentes dans une zone\n",
    "col_valeur='nombreObs_norm_par_espece'\n",
    "liste_codes=liste_geo_PNR_Vosges\n",
    "\n",
    "chercher_especes_protegees(df_inpn,liste_codes,cle_geo='codeMaille10Km',cle_ID='cdRef',col_valeur=col_valeur)\n",
    "\n",
    "afficher_dataframe(grouped_local_especes_protegee,[col_valeur,cle_ID,'nomVernaculaire','nomScientifique','famille','ordre','classe','regne','especeProtegee']).head(10)"
   ]
  },
  {
   "cell_type": "markdown",
   "id": "44b8f65c-8941-4e19-ac77-079ddc94ac0a",
   "metadata": {},
   "source": [
    "## AFFICHAGE DES DONNEES SOUS FORME DE CARTE "
   ]
  },
  {
   "cell_type": "code",
   "execution_count": null,
   "id": "8269ab48-040d-40b6-98b3-b266900d775a",
   "metadata": {},
   "outputs": [],
   "source": [
    "import affichage_carte_biodiv\n",
    "importlib.reload(affichage_carte_biodiv)\n",
    "from affichage_carte_biodiv import (\n",
    "    configurer_carte,\n",
    "    ajouter_couche_SIG,\n",
    "    ajouter_couche_continue,\n",
    "    ajouter_couche_discrete,\n",
    "    ajouter_couche_statut,\n",
    "    ajouter_couche_point,\n",
    "    afficher_carte_defaut\n",
    ")\n",
    "# Afficher les données sous forme de carte\n",
    "col_valeur='nombreObs_norm_par_maille_et_kingdom'\n",
    "colormap='viridis'\n",
    "\n",
    "clade = 'species' #clade can be :  nomScientifique \tnomVernaculaire  regne \tclasse \tordre \tfamille  genre \n",
    "taxon='Sturnus vulgaris'\n",
    "titre=clade+'_'+taxon+' - var '+col_valeur\n",
    "df_filt=df_biodiv[(df_biodiv[clade]==taxon)]\n",
    "\n",
    "\"\"\" basemap_type :\n",
    "'OpenStreetMap': ctx.providers.OpenStreetMap.France,\n",
    "'GeoportailSatellite': ctx.providers.GeoportailFrance.orthos,\n",
    "\"\"\"\n",
    "\n",
    "fig, ax=configurer_carte('GeoportailSatellite',13,9,zoom=6,xlim_min=xlim_min,xlim_max=xlim_max,ylim_min=ylim_min,ylim_max=ylim_max)\n",
    "\n",
    "#fig, ax=ajouter_couche_SIG(fig, ax,bioregion_gpd)\n",
    "fig, ax=ajouter_couche_SIG(fig, ax, departement_gpd,edgecolor=\"white\",facecolor='none',linewidth=0.5,linestyle='--',alpha=1,with_label=True,col_label='code',label_color='white',fontsize=8)\n",
    "fig, ax=ajouter_couche_continue(fig, ax, df_filt,carte_maille,col_valeur,'codeMaille10Km',quantile_inf=0.01,quantile_sup=0.95,cmap_choice='viridis',val_alpha=0.8)\n",
    "#fig, ax=ajouter_couche_SIG(fig, ax, PNR_gpd,edgecolor=\"white\",facecolor='yellow',linewidth=0.5,linestyle='--',alpha=0.3)\n",
    "#fig, ax=ajouter_couche_SIG(fig, ax, PN_gpd,edgecolor=\"white\",facecolor='lightgreen',linewidth=0.5,linestyle='--',alpha=0.5)\n",
    "ax.set_title(titre, fontsize=16)  # Taille de la police définie à 16\n",
    "fig.savefig(save_path+'/'+titre+'.png', dpi=300, bbox_inches='tight')  # Enregistre au format PNG avec une résolution de 300 DPI\n",
    "\n",
    "plt.show()"
   ]
  },
  {
   "cell_type": "markdown",
   "id": "4564ee75-544f-4ff0-a1f7-08a4f84b6d7c",
   "metadata": {},
   "source": [
    "## INDICE DE BIODIVERSITE et ENDEMISME  "
   ]
  },
  {
   "cell_type": "code",
   "execution_count": null,
   "id": "f8c37be7-231d-41e6-86a2-330bde3358c0",
   "metadata": {},
   "outputs": [],
   "source": [
    "# Calculer les indices de biodiversité et d'endémisme\n",
    "col_valeur='nombreObs_norm_par_maille_et_kingdom'\n",
    "colormap='plasma'\n",
    "cle_geo_etude='codeMaille5Km'\n",
    "df_etude=df_biodiv\n",
    "df_etude=df_etude[df_etude[cle_geo_etude].notna()]\n",
    "#df_etude=df_etude[df_etude['habitatEspeceTaxref'].str.contains(\"marin\",na=False,case=False)]\n",
    "df_etude=filtrer_top(df_etude,'nombreObs',100,cle_ID)\n",
    "\n",
    "df_indice=calculer_indices(df_etude,col_valeur,cle_geo_etude,cle_ID)\n",
    "fond_carte='GeoportailSatellite'\n"
   ]
  },
  {
   "cell_type": "code",
   "execution_count": null,
   "id": "c991d8a4-35ae-45df-9016-a7cb8ff56105",
   "metadata": {},
   "outputs": [],
   "source": [
    "nom='totale'\n",
    "#Indices de biodiversité : shannon ou simpson ou nb espèces\n",
    "indice_choisi=\"indice_d_endemisme\"\n",
    "titre='Biodiversité_'+nom+'_'+indice_choisi\n",
    "\n",
    "fig, ax=configurer_carte('OpenStreetMap',13,9,xlim_min=xlim_min,xlim_max=xlim_max,ylim_min=ylim_min,ylim_max=ylim_max,zoom=8)\n",
    "fig, ax=ajouter_couche_continue(fig, ax, df_indice,carte_maille,indice_choisi,cle_geo,\n",
    "                                quantile_inf=0.02,quantile_sup=0.99, borne_min=None,borne_max=None,\n",
    "                                cmap_choice='plasma',val_alpha=0.6,colorbar_choice=True)\n",
    "fig, ax=ajouter_couche_SIG(fig, ax,world_geo,linewidth=1)\n",
    "ax.set_title(titre, fontsize=16)  # Taille de la police définie à 16\n",
    "fig.savefig(save_path+'/'+titre+'.png', dpi=300, bbox_inches='tight')  # Enregistre au format PNG avec une résolution de 300 DPI\n",
    "\n",
    "plt.show()"
   ]
  },
  {
   "cell_type": "code",
   "execution_count": null,
   "id": "84cda52b-6d8f-4112-9de2-4c8d5a8e06a7",
   "metadata": {},
   "outputs": [],
   "source": [
    "df_geo_affichage=carte_maille\n",
    "#PN_et_PNR_gpd['NOM_SITE'] = PN_et_PNR_gpd['NOM_SITE'].str.replace(r\"\\s*\\[aire d'adhésion\\]\", \"\", regex=True, flags=re.IGNORECASE)\n",
    "df_indice_affichage=df_indice\n",
    "cle_geo_etude='codeMaille10Km'\n",
    "nom='totale'\n",
    "#Indices de biodiversité : shannon ou simpson ou nb espèces\n",
    "indice_choisi=\"nombre_especes\"\n",
    "titre='Biodiversité_'+nom+'_'+indice_choisi\n",
    "afficher_carte_defaut(titre,df_indice_affichage,df_geo=df_geo_affichage,couche_sig=world_geo,col_valeur=indice_choisi,cle_geo=cle_geo_etude,quantile_inf=0,quantile_sup=1,\n",
    "                           cmap_choice=colormap,basemap_type=fond_carte,save_path=None)\n",
    "\n",
    "indice_choisi='indice_de_Shannon' # Mesure la diversité en prenant en compte la richesse spécifique et l'abondance relative des espèces.\n",
    "titre='Biodiversité_'+nom+'_'+indice_choisi\n",
    "afficher_carte_defaut(titre,df_indice_affichage,df_geo=df_geo_affichage,couche_sig=world_geo,col_valeur=indice_choisi,cle_geo=cle_geo_etude,quantile_inf=0,quantile_sup=1,\n",
    "                           cmap_choice=colormap,basemap_type=fond_carte,save_path=None)\n",
    "\n",
    "indice_choisi='indice_de_Simpson' # Mesure la diversité en prenant en compte la richesse spécifique et l'abondance relative des espèces.\n",
    "titre='Biodiversité_'+nom+'_'+indice_choisi\n",
    "afficher_carte_defaut(titre,df_indice_affichage,df_geo=df_geo_affichage,couche_sig=world_geo,col_valeur=indice_choisi,cle_geo=cle_geo_etude,quantile_inf=0,quantile_sup=1,\n",
    "                           cmap_choice=colormap,basemap_type=fond_carte,save_path=None)\n",
    "\n",
    "df_indice_affichage.sort_values('indice_de_Simpson',ascending=False).reset_index(drop=True)\n"
   ]
  },
  {
   "cell_type": "code",
   "execution_count": null,
   "id": "7fd4f011-b5b3-4339-8a49-3a139a3d0935",
   "metadata": {},
   "outputs": [],
   "source": [
    "df_indice_affichage.sort_values('indice_d_endemisme',ascending=False).reset_index(drop=True).tail(5)"
   ]
  },
  {
   "cell_type": "code",
   "execution_count": null,
   "id": "d5684adf-54ea-42ea-84c4-4898813912c9",
   "metadata": {},
   "outputs": [],
   "source": [
    "# Indice d'endémisme : WE\n",
    "df_indice_affichage=df_indice\n",
    "cle_geo_etude='NOM_SITE'\n",
    "indice_choisi='indice_d_endemisme'\n",
    "titre='Endémisme_'+nom+'_'+indice_choisi\n",
    "afficher_carte_defaut(titre,df_indice_affichage,df_geo=df_geo_affichage,couche_sig=PN_et_PNR_gpd,col_valeur=indice_choisi,cle_geo=cle_geo_etude,quantile_inf=0,quantile_sup=0.96,\n",
    "                           cmap_choice=colormap,basemap_type=fond_carte,save_path=None)\n",
    "\n",
    "df_indice_affichage.sort_values('indice_d_endemisme',ascending=False).reset_index(drop=True)"
   ]
  },
  {
   "cell_type": "code",
   "execution_count": null,
   "id": "71dc3660-7b38-4d7d-804c-f5bf69631ff9",
   "metadata": {},
   "outputs": [],
   "source": [
    "# Si on a fait des mailles pour étudier les parcs, attention plutot pour endemisme, pour le reste plutot passer directement par cle_geo ='NOM_SITE'\n",
    "df_indice_parc=df_indice.reset_index()\n",
    "df_indice_parc=ajouter_nom_site_df(df_indice_parc,carte_maille,PN_et_PNR_gpd,taux_min=0.5,cle_geo='codeMaille10Km',cle_nom_site='NOM_SITE',display=True,methode='exact')\n",
    "df_indice_parc=df_indice_parc.groupby(['NOM_SITE'])[['nombre_especes','indice_de_Shannon','indice_de_Simpson','indice_d_endemisme']].mean().reset_index()"
   ]
  },
  {
   "cell_type": "markdown",
   "id": "7b52c0c3-9e09-4852-90ea-f7d1ac805689",
   "metadata": {},
   "source": [
    "## ANALYSE PAR CLUSTERS BIOGEOGRAPHIQUES  "
   ]
  },
  {
   "cell_type": "code",
   "execution_count": 24,
   "id": "f6583573-224f-4287-b1f6-8c12a65b441d",
   "metadata": {},
   "outputs": [
    {
     "name": "stdout",
     "output_type": "stream",
     "text": [
      "nombre d'espèces retenues dans le df :17612 (52%)\n",
      "Variance expliquée par chaque composante: [0.11348407 0.05491683 0.04008682 0.02805063 0.02610923 0.01658202\n",
      " 0.01086514 0.01017464 0.00924422 0.00824085]\n",
      "Cluster\n",
      "1    593\n",
      "2    591\n",
      "3    504\n",
      "4    263\n",
      "5    146\n",
      "6    122\n",
      "Name: count, dtype: int64\n"
     ]
    }
   ],
   "source": [
    "# Regrouper les données en clusters similaires et afficher la carte\n",
    "#clade can be :  nomScientifique \tnomVernaculaire \tregne \tclasse \tordre \tfamille \tgenre \t\n",
    "df_filt= filtrer_top(df_biodiv,'nombreObs',10,cle_ID)\n",
    "col_valeur='nombreObs_norm_par_maille_et_kingdom_log'\n",
    "choix_methode='ward' #method : kmeans ward\n",
    "\n",
    "n_pca=10\n",
    "k=6\n",
    "df_pca=analyser_composantes_principales(df_filt,cle_geo,col_valeur,cle_ID,n_pca=n_pca)\n",
    "\n",
    "#determinerk(df_pca)\n",
    "\n",
    "df_cluster=former_cluster_biogeo(df_pca,method=choix_methode,k_cluster=k)"
   ]
  },
  {
   "cell_type": "code",
   "execution_count": 25,
   "id": "aa00306a-40c5-436e-a822-916a322153bd",
   "metadata": {},
   "outputs": [],
   "source": [
    "titre='Carte des biorégions du '+country.replace('_', '-')\n",
    "\n",
    "\"\"\"\n",
    "    'OpenStreetMap'\n",
    "    'GeoportailSatellite'\n",
    "\"\"\"\n",
    "colormap='Accent' #Spectral_r plasma Paired (12) Set1_r (9) Set2_r (8) tab10 (10) Accent_r (8)\n",
    "fig, ax=configurer_carte('OpenStreetMap',13,9,xlim_min=xlim_min,xlim_max=xlim_max,ylim_min=ylim_min,ylim_max=ylim_max,zoom=8)\n",
    "#fig, ax=ajouter_couche_SIG(fig, ax,bioregion_gpd)\n",
    "\n",
    "fig, ax=ajouter_couche_discrete(fig, ax,df_cluster,carte_maille,col_valeur='Cluster',cle_geo=cle_geo,cmap_choice=colormap,val_alpha=0.75,legend_choice=True)\n",
    "#fig, ax=ajouter_couche_SIG(fig, ax,bioregion_gpd,linewidth=1)\n",
    "#fig, ax=ajouter_couche_SIG(fig, ax,departement_gpd)\n",
    "#fig, ax=ajouter_couche_SIG(fig, ax,world_geo,linewidth=1,edgecolor='black',linestyle='-')\n",
    "fig, ax=ajouter_couche_SIG(fig, ax,eez_geo,linewidth=1,edgecolor='black',facecolor='black',linestyle='-')\n",
    "ax.set_title(titre, fontsize=18)  # Taille de la police définie à 16\n",
    "\n",
    "# Ajoute une ligne de texte en dessous de la figure\n",
    "fig.text(0.5, 0.09, f'var : {col_valeur}, méthode k-means {choix_methode}', ha='center', va='center', fontsize=10)\n",
    "\n",
    "fig.savefig(save_path+'/'+titre+'.png', dpi=300, bbox_inches='tight')  # Enregistre au format PNG avec une résolution de 300 DPI\n",
    "\n",
    "plt.show()"
   ]
  },
  {
   "cell_type": "code",
   "execution_count": null,
   "id": "0a9ed097-9c7e-4bda-a8c6-bfc6870d1b80",
   "metadata": {},
   "outputs": [],
   "source": [
    "df"
   ]
  },
  {
   "cell_type": "code",
   "execution_count": null,
   "id": "34bb6292-336e-4a88-a69f-deb87ef765ac",
   "metadata": {
    "scrolled": true
   },
   "outputs": [],
   "source": [
    "# Afficher les espèces surreprésentés dans chaque cluster\n",
    "#df_filt=creation_filtre_top(df_inpn,'nombreObs',2000)\n",
    "\n",
    "cluster_composition=afficher_composition_cluster(df_filt,df_cluster,dico_taxo,'nombreObs_norm_par_espece',5)"
   ]
  },
  {
   "cell_type": "code",
   "execution_count": null,
   "id": "bc54ae51-abe2-475e-b238-aa095cc50cc5",
   "metadata": {
    "scrolled": true
   },
   "outputs": [],
   "source": [
    "# Afficher les taxons les plus présents de chaque cluster\n",
    "cluster_composition=afficher_composition_cluster(df_filt,df_cluster,dico_taxo,'nombreObs_norm_par_maille_et_regne',5)"
   ]
  },
  {
   "cell_type": "markdown",
   "id": "5531c2b0-cef7-4c62-a8f6-f8c0aa655ad1",
   "metadata": {},
   "source": [
    "## ANALYSE PAR CLUSTERS D'ESPECES"
   ]
  },
  {
   "cell_type": "code",
   "execution_count": null,
   "id": "03a0cd3d-6139-4c69-bfa7-e8391a77ec3f",
   "metadata": {},
   "outputs": [],
   "source": [
    "# Filtrer les espèces les plus présentes pour réduire le temps de calcul\n",
    "df_input=filtrer_top(df_inpn,'nombreObs',10000)\n",
    "\n",
    "# info temps : seuil=10 000 - n=1680 => t=60s\n",
    "# pour toutes les espèces (16 792) => t=6000s \n",
    "# Cas général : t = n^2 / 47040 ou n=racine(t*47040)"
   ]
  },
  {
   "cell_type": "code",
   "execution_count": null,
   "id": "3ca4d643-cee6-4bb4-85b6-56d6c0d83630",
   "metadata": {},
   "outputs": [],
   "source": [
    "# Calculer la matrice de corrélation et affichage du dendogram\n",
    "col_values_mr='nombreObs_norm_par_maille_et_regne'\n",
    "mat_corr_mr=correlation_matrix(df_input,col_values_mr,m='pearson')\n",
    "mat_corr_mr= mat_corr_mr.astype(float)\n",
    "Z_mr=generer_dendogram(mat_corr_mr,methode='ward',display=0) #plutot ward ou complete\n",
    "\n",
    "\"\"\"\n",
    "col_values_mrl='nombreObs_normalisé_mrl'\n",
    "corr_mrl=correlation_matrix_dendogram(df_input,col_values_mrl)\n",
    "Z_mrl=dendogram(corr_mrl,methode='ward',display=0) #plutot ward ou complete\n",
    "\n",
    "col_values_obs='nombreObs'\n",
    "corr_obs=correlation_matrix_dendogram(df_input,col_values_obs)\n",
    "Z_obs=dendogram(corr_obs,methode='ward',display=0)\n",
    "\n",
    "col_values_unique='ObsUnique'\n",
    "corr_unique=correlation_matrix_dendogram(df_input,col_values_unique)\n",
    "Z_unique=dendogram(corr_unique,methode='ward',display=0)\n",
    "\n",
    "corr_moy=(corr_mr+corr_unique+corr_obs)/3\n",
    "Z_moy=dendogram(corr_moy,methode='ward',display=0)\n",
    "\"\"\""
   ]
  },
  {
   "cell_type": "code",
   "execution_count": null,
   "id": "5ab0ac60-edd6-4a22-bd5b-0cc170e454fb",
   "metadata": {},
   "outputs": [],
   "source": [
    "# Sauvegarder les données\n",
    "path='C:/Users/anormand/Documents/Projet Python/Biodiv/Data_intermed'\n",
    "\n",
    "df_tosave = pd.DataFrame(mat_corr)\n",
    "df_tosave.to_csv(path+'/corr_mr_ward_sansfungi.csv', index=False)\n"
   ]
  },
  {
   "cell_type": "code",
   "execution_count": null,
   "id": "b0726b2e-c6ff-4b13-836c-00b198f6cdf9",
   "metadata": {},
   "outputs": [],
   "source": [
    "# Importer les données\n",
    "path='C:/Users/anormand/Documents/Projet Python/Biodiv/Data_intermed'\n",
    "\n",
    "Z_obs = pd.read_csv(path+ '/Z_obs_sansfungi.csv',dtype=str) # ward"
   ]
  },
  {
   "cell_type": "code",
   "execution_count": null,
   "id": "1e022d6f-96f7-4014-92b5-ad8f8be18a49",
   "metadata": {},
   "outputs": [],
   "source": [
    "# Former les clusters en fonction du niveau choisi\n",
    "col_valeur='nombreObs_norm_par_maille_et_regne'\n",
    "Z=Z_mr\n",
    "lvl=8\n",
    "criterion='distance'\n",
    "\n",
    "df_corr_cluster=former_cluster_espece(df_input, Z, col_valeur=col_valeur, level=lvl, crit='distance')\n",
    "df_input_clustered=pd.merge(df_input,df_corr_cluster[[cle_ID,'Cluster_corr']],on=cle_ID)\n",
    "\n",
    "print('nombre de cluster formés :'+str(len(df_corr_cluster['Cluster_corr'].unique())))"
   ]
  },
  {
   "cell_type": "code",
   "execution_count": null,
   "id": "0efa420f-d409-4d36-a289-d0b15f60418d",
   "metadata": {
    "scrolled": true
   },
   "outputs": [],
   "source": [
    "# Chercher le cluster contenant une espèce en particulier et afficher les espèces qu'il contient, ordonne selon la colonne col_values\n",
    "espece='Sus scrofa'\n",
    "col_valeur='nombreObs_norm_par_maille_et_regne'\n",
    "df_corr_cluster=df_corr_cluster\n",
    "#Recherche du cluster contenant l'espèce\n",
    "num_cluster=chercher_numcluster_espece(df_corr_cluster,espece)\n",
    "\n",
    "# Affichage du cluster ordonné par col_values\n",
    "liste_especes_cluster_choisi=lister_especes_dans_cluster(df_input_clustered,num_cluster,col_valeur='nombreObs_norm_par_maille_et_regne')\n",
    "\n",
    "print('Le cluster regroupe '+str(len(liste_especes_cluster_choisi))+' espèces')\n",
    "\n",
    "afficher_dataframe(liste_especes_cluster_choisi,[cle_ID,'nomScientifique','nomVernaculaire','ordre','classe','regne',col_valeur],col_sort=col_valeur).head(100)"
   ]
  },
  {
   "cell_type": "code",
   "execution_count": null,
   "id": "34925cc3-7385-4bb3-8136-7c554b56dad1",
   "metadata": {},
   "outputs": [],
   "source": [
    "# Afficher l'aire de répartition correspondant au cluster selectionné\n",
    "colormap='viridis'\n",
    "col_valeur='nombreObs_norm_par_maille_et_regne'\n",
    "titre=f'{col_valeur} cluster numéro {num_cluster}'\n",
    "df_filt=df_input_clustered[df_input_clustered['Cluster_corr']==num_cluster]\n",
    "\n",
    "# On récupère la liste unique des code_maille\n",
    "\n",
    "afficher_carte_defaut(titre,df_filt,df_geo=carte_maille,couche_sig=departement_gpd,col_valeur=col_valeur,cle_geo=cle_geo,quantile_inf=0,quantile_sup=0.95,\n",
    "                           cmap_choice=colormap,basemap_type=fond_carte,save_path=None)"
   ]
  },
  {
   "cell_type": "code",
   "execution_count": null,
   "id": "6313e9ae-59cd-4dd2-abb8-8452d1cec6bf",
   "metadata": {},
   "outputs": [],
   "source": [
    "df_input_clustered"
   ]
  },
  {
   "cell_type": "markdown",
   "id": "8c557e46-4c8b-45af-9f21-0248ece44958",
   "metadata": {},
   "source": [
    "## ANALYSE AVANCEE PAR CLUSTER D'ESPECE"
   ]
  },
  {
   "cell_type": "code",
   "execution_count": null,
   "id": "af666966-269b-4fc5-afd4-ead39c2560cc",
   "metadata": {
    "jupyter": {
     "source_hidden": true
    },
    "scrolled": true
   },
   "outputs": [],
   "source": [
    "# Remplir le dataframe df_inpn_cluster_espece en faisant correspondre maille et cluster\n",
    "\n",
    "col_valeur='nombreObs_norm_par_maille_et_regne'\n",
    "df_grouper_par_maille=grouper_dans_maille(df_input,df_corr_cluster,col_valeur)\n"
   ]
  },
  {
   "cell_type": "code",
   "execution_count": null,
   "id": "7096946b-19cc-4612-88e4-5865c5ec8a64",
   "metadata": {
    "jupyter": {
     "source_hidden": true
    }
   },
   "outputs": [],
   "source": [
    "# Afficher la carte avec les mailles\n",
    "afficher_carte_maille(carte_maille)"
   ]
  },
  {
   "cell_type": "code",
   "execution_count": null,
   "id": "a19ebbb5-92c7-44c4-a747-9921ffe72e35",
   "metadata": {
    "jupyter": {
     "source_hidden": true
    }
   },
   "outputs": [],
   "source": [
    "# Rechercher les clusters présents dans une maille ou une liste de mailles, les ordonner selon la colonne col_values\n",
    "col_choice='nombreObs_normalisé_par_espece' # pour les espèces les plus caractéristiques\n",
    "liste_codes=liste_geo_PNR_Vosges\n",
    "\n",
    "df_cluster_maille=etude_mailles(df_inpn_cluster_espece,liste_codes,['nombreObs','nombreObs_normalisé_par_maille_regne','nombreObs_normalisé_par_espece'],col_groupe='Cluster_corr')\n",
    "df_dico=df_inpn_cluster_espece[['Cluster_corr', 'nomScientifique', 'nomVernaculaire']].drop_duplicates(subset=['Cluster_corr'])\n",
    "df_cluster_maille = pd.merge(df_cluster_maille,df_dico, on='Cluster_corr', how='left')\n",
    "df_cluster_maille = df_cluster_maille.sort_values(by=col_choice,ascending=False)\n",
    "df_cluster_maille=df_cluster_maille.reset_index()\n",
    "\n",
    "print(str(len(df_cluster_maille))+' groupes sont présents dans la zone étudiée')\n",
    "affichage_dataframe(df_cluster_maille,['Cluster_corr','nomScientifique','nomVernaculaire','nombreObs_normalisé_par_espece','nombreObs','nombreObs_normalisé_par_maille_regne'],col_sort=col_choice).head(20)"
   ]
  },
  {
   "cell_type": "code",
   "execution_count": null,
   "id": "40cc4809-72e3-4635-8dd5-30e9391aaf2a",
   "metadata": {
    "jupyter": {
     "source_hidden": true
    }
   },
   "outputs": [],
   "source": [
    "# Chercher le rang du cluster choisi dans la zone selectionnée\n",
    "num_cluster=290\n",
    "rank_cluster = df_cluster_maille[df_cluster_maille['Cluster_corr'] == num_cluster].index[0]\n",
    "print(('Cluster rang ')+str(rank_cluster)+' dans la zone '+str(liste_codes))\n"
   ]
  },
  {
   "cell_type": "code",
   "execution_count": null,
   "id": "7c74d74d-e4fd-4305-8286-4cc41ae7b36a",
   "metadata": {
    "jupyter": {
     "source_hidden": true
    },
    "scrolled": true
   },
   "outputs": [],
   "source": [
    "# Afficher les espèces présentes dans le cluster le plus représenté localement, 0 pour les espèces du cluster pas présentes localement\n",
    "col_choice='nombreObs_normalisé_par_espece'\n",
    "\n",
    "rank_cluster=1 #correspond au numéro du cluster : 0 = le premier\n",
    "\n",
    "num_cluster=int(df_cluster_maille['Cluster_corr'].iloc[rank_cluster])\n",
    "print(('Cluster n°')+str(num_cluster)+' dans la zone '+str(liste_codes))\n",
    "cluster_local=etude_cluster_local(df_input,liste_codes,df_corr_cluster,num_cluster,col_choice)\n",
    "affichage_dataframe(cluster_local,['nomScientifique','nomVernaculaire','classe','regne','nombreObs','nombreObs_normalisé_par_maille_regne','nombreObs_normalisé_par_espece',col_values],col_sort=col_choice)"
   ]
  },
  {
   "cell_type": "code",
   "execution_count": null,
   "id": "dba1b882-edec-488b-a2fd-6fb80eb7d0c9",
   "metadata": {
    "jupyter": {
     "source_hidden": true
    }
   },
   "outputs": [],
   "source": [
    "# Chercher les espèces qui pourraient potentiellement être présente dans la zone étudiée\n",
    "# la liste est ordonnée de manière décroissante (espèces les plus adaptées en premier)\n",
    "\n",
    "df_espece_pas_presentes=chercher_especes_pas_presentes(df_input,df_cluster_maille,df_corr_cluster,liste_codes)\n",
    "affichage_dataframe(df_espece_pas_presentes,['nomScientifique','nomVernaculaire','genre','famille','ordre','classe','regne','Cluster_corr','nombreObs']).head(20)"
   ]
  },
  {
   "cell_type": "code",
   "execution_count": null,
   "id": "e8925fb1-57f5-419f-abdf-64ac7fdccb3c",
   "metadata": {},
   "outputs": [],
   "source": [
    "# chercher les zones les plus adaptées à une espèce mais ou elle ne se trouve pourtant pas\n",
    "espece='Lynx lynx'\n",
    "\n",
    "col_affichage='nombreObs_normalisé_mrl'\n",
    "colormap='plasma'\n",
    "\n",
    "df_cluster_espece_manquante=chercher_zone_espece_pas_presente(df_input,df_corr_cluster,df_inpn_cluster_espece,espece,\n",
    "                                      col_choice='nombreObs_normalisé_par_maille_regne')\n",
    "\n",
    "# On groupe par 'codeMaille10Km' et on filtre ceux qui n'ont pas l'espèce\n",
    "df_avec_espece = df_input[(df_input['nomScientifique']==espece)]\n",
    "\n",
    "# On récupère la liste unique des 'codeMaille10Km'\n",
    "liste_maille_avec_espece = df_avec_espece['codeMaille10Km'].unique()\n",
    "\n",
    "df_resultat_avec=df_cluster_espece_manquante[df_cluster_espece_manquante['codeMaille10Km'].isin(liste_maille_avec_espece)]\n",
    "\n",
    "# Afficher l'aire de répartition correspondant au cluster selectionné\n",
    "seuil=max(df_resultat_avec[col_affichage])-3\n",
    "seuil=0\n",
    "df_filt=df_cluster_espece_manquante[df_cluster_espece_manquante[col_affichage]>=seuil]\n",
    "\n",
    "titre='Aire de répartition potentielle de '+espece\n",
    "\n",
    "afficher_carte_observations_espece_manquante(df_filt,df_resultat_avec,carte_maille,col_values=col_affichage,cmap_choice=colormap,color_present='black',\n",
    "                                             n=1,m=1,title=titre,save_path=savepath,basemap_type='OpenStreetMap',zoom_map=7)"
   ]
  },
  {
   "cell_type": "code",
   "execution_count": null,
   "id": "660c7219-957a-40e0-af1a-76d3a84e316e",
   "metadata": {},
   "outputs": [],
   "source": [
    "# choix des clusters à afficher sous forme de carte\n",
    "\n",
    "liste_cluster=[13]\n",
    "#liste_cluster=list(range(1, 101))\n",
    "seuil =0\n",
    "var='nombreObs_normalisé_mrl'\n",
    "df_filt=df_corr_cluster[df_corr_cluster['Cluster_corr'].isin(liste_cluster)]\n",
    "\n",
    "df_filt=pd.merge(df_in,df_filt[['nomScientifique','Cluster_corr']],on='nomScientifique')\n",
    "df_filt=df_filt[df_filt[var]>=seuil]\n",
    "df_filt=df_filt[['codeMaille10Km','Cluster_corr']]\n",
    "df_filt=df_filt.drop_duplicates()\n",
    "\n",
    "afficher_carte_cluster(df_filt,carte_maille,col_values=\"Cluster_corr\",cmap_choice=colormap,\n",
    "                       title=titre,save_path=savepath,basemap_type='OpenStreetMap',val_alpha=0.5)"
   ]
  },
  {
   "cell_type": "markdown",
   "id": "dbd094c1-15e9-4be5-bbfc-c09c9603c8f6",
   "metadata": {},
   "source": [
    "## CORRELATIONS AVEC UN SUJET"
   ]
  },
  {
   "cell_type": "code",
   "execution_count": null,
   "id": "5c056365-bd84-4802-bc62-6721f1fdc17a",
   "metadata": {},
   "outputs": [],
   "source": [
    "# Chercher les correlations entre un sujet et un champ de recherche\n",
    "clade = 'nomScientifique'\n",
    "sujet='Armadillidium nasatum'\n",
    "\n",
    "df_global=filtrer_top(df_inpn,'nombreObs',1000)\n",
    "df_sujet=df_inpn[df_inpn['nomScientifique']==sujet]\n",
    "df_global=pd.concat([df_sujet,df_global])\n",
    "df_global = df_global.drop_duplicates()\n",
    "\n",
    "#définition du dataframe où chercher la corrélation\n",
    "methode_choice='kendall' # pearson kendall spearman \n",
    "#1000 Pearson=24s ,Kendall=29s, spearman =35s . Kendall et spearman donne à peu près les mêmes résultats, meilleurs que pearson\n",
    "col_valeur='nombreObs_norm_par_maille_et_regne'\n",
    "colonne_resultat = f\"{col_valeur}_predit_par_correlation\"\n",
    "\n",
    "df_corr=calculer_correlation_sujet(df_global,col_valeur,clade,sujet,methode=methode_choice)\n",
    "\n",
    "afficher_dataframe(df_corr,['Coeff_corr','nomScientifique','nomVernaculaire','genre','famille','ordre','classe','regne'],col_sort='Coeff_corr').iloc[1:10]\n"
   ]
  },
  {
   "cell_type": "code",
   "execution_count": null,
   "id": "9caffd3b-8aec-4b3e-a29b-5122b7beb114",
   "metadata": {},
   "outputs": [],
   "source": [
    "# Fitlrer les résultats\n",
    "liste=df_arbres['nomScientifique'].unique()\n",
    "df_filt=df_corr[df_corr['nomScientifique'].isin(liste)]\n",
    "afficher_dataframe(df_filt,['Coeff_corr','nomScientifique','nomVernaculaire','genre','famille','ordre','classe','regne'],col_sort='Coeff_corr').iloc[0:10]"
   ]
  },
  {
   "cell_type": "code",
   "execution_count": null,
   "id": "8a567558-ca79-4449-85b0-37175a4cd4ae",
   "metadata": {},
   "outputs": [],
   "source": [
    "# Afficher la carte de l'espèce/autre la mieux corrélée\n",
    "col_valeur='nombreObs_norm_par_maille_et_regne'\n",
    "taxon_corr=df_corr.iloc[1, 0]\n",
    "df_filt=df_inpn[(df_inpn[clade]==taxon_corr)]\n",
    "titre=clade+'_'+taxon_corr+'_'+col_valeur\n",
    "\n",
    "afficher_carte_defaut(titre,df_filt,df_geo=carte_maille,couche_sig=bioregion_gpd,col_valeur=col_valeur,cle_geo=cle_geo,quantile_inf=0,quantile_sup=0.99,\n",
    "                           cmap_choice=colormap,basemap_type=fond_carte,save_path=None)"
   ]
  },
  {
   "cell_type": "code",
   "execution_count": null,
   "id": "4ebcf81d-e5ae-48bd-af8c-e756482ef601",
   "metadata": {},
   "outputs": [],
   "source": [
    "# Afficher la carte de l'espèce/autre la moins corrélée\n",
    "taxon_corr=df_corr.iloc[len(df_corr)-1,0]\n",
    "df_filt=df_inpn[(df_inpn[clade]==taxon_corr)]\n",
    "titre=clade+'_'+taxon_corr+'_'+col_valeur\n",
    "\n",
    "afficher_carte_defaut(titre,df_filt,df_geo=carte_maille,couche_sig=departement_gpd,col_valeur=col_valeur,cle_geo=cle_geo,quantile_inf=0,quantile_sup=0.99,\n",
    "                           cmap_choice=colormap,basemap_type=fond_carte,save_path=None)"
   ]
  },
  {
   "cell_type": "code",
   "execution_count": null,
   "id": "fa695507-99f1-4749-bb04-e83d7c9a5f02",
   "metadata": {},
   "outputs": [],
   "source": [
    "# Affichage de la carte de répartition prédite par corrélation \n",
    "with_specie=1 # si with_specie=0 alors ne prend pas en compte l'espece en question , si #1 alors prend en compte l'espece\n",
    "\n",
    "#Calculer la prédiction\n",
    "df_sujet_predit=recalculer_nombreObs_par_correlation(df_global,df_corr,col_valeur,sujet,with_specie) \n",
    "\n",
    "titre=f\"Aire de répartition potentielle de {sujet}\"\n",
    "colormap='plasma'\n",
    "n_sigma=2 #if n=0 alors seuil=0\n",
    "seuil_observation=1\n",
    "# Creer un seuil basé sur l'aire de répartition connue de l'espèce\n",
    "df_global_avec_presence = df_global[(df_global['nomScientifique']==sujet)&(df_global['nombreObs']>=seuil_observation)]\n",
    "seuil_prediction=calculer_seuil(df_global,df_sujet_predit,sujet,col_valeur,seuil_observation,n_sigma)\n",
    "df_filt=df_sujet_predit[df_sujet_predit[colonne_resultat]>=seuil_prediction]\n",
    "\n",
    "\n",
    "fig, ax=configurer_carte('GeoportailSatellite',13,9)\n",
    "fig, ax=ajouter_couche_continue(fig, ax, df_filt,carte_maille,colonne_resultat,cle_geo,quantile_inf=0.01,quantile_sup=0.99, cmap_choice=colormap,val_alpha=0.75,colorbar_choice=True)\n",
    "fig, ax=ajouter_couche_point(fig, ax,df_global_avec_presence,carte_maille,col_valeur=col_valeur,cle_geo='codeMaille10Km',color_dot='black',size_dot=2,legend_choice=True)\n",
    "fig, ax=ajouter_couche_SIG(fig, ax,departement_gpd)\n",
    "#fig, ax=ajouter_couche_SIG(fig, ax,departement_gpd)\n",
    "ax.set_title(titre, fontsize=16)  # Taille de la police définie à 16\n",
    "fig.savefig(save_path+'/'+titre+'.png', dpi=300, bbox_inches='tight')  # Enregistre au format PNG avec une résolution de 300 DPI\n",
    "\n",
    "plt.show()"
   ]
  },
  {
   "cell_type": "code",
   "execution_count": null,
   "id": "29496eac-13b4-4281-ac44-0b05ec72c1ac",
   "metadata": {},
   "outputs": [],
   "source": [
    "# Afficher la carte de la présence recalculé via les corrélations sans prendre en compte l'espèce en question\n",
    "with_specie=0 # si with_specie=0 alors ne prend pas en compte l'espece en question , si #1 alors prend en compte l'espece\n",
    "\n",
    "#Calculer la prédiction\n",
    "df_sujet_predit=recalculer_nombreObs_par_correlation(df_global,df_corr,col_valeur,sujet,with_specie) \n",
    "\n",
    "titre=f\"Aire de répartition potentielle de {sujet}\"\n",
    "colormap='plasma'\n",
    "n_sigma=1 #if n=0 alors seuil=0\n",
    "seuil_observation=1\n",
    "# Creer un seuil basé sur l'aire de répartition connue de l'espèce\n",
    "df_global_avec_presence = df_global[(df_global['nomScientifique']==sujet)&(df_global['nombreObs']>=seuil_observation)]\n",
    "seuil_prediction=calculer_seuil(df_global,df_sujet_predit,sujet,col_valeur,seuil_observation,n_sigma)\n",
    "df_filt=df_sujet_predit[df_sujet_predit[colonne_resultat]>=seuil_prediction]\n",
    "\n",
    "\n",
    "fig, ax=configurer_carte('GeoportailSatellite',13,9)\n",
    "fig, ax=ajouter_couche_continue(fig, ax, df_filt,carte_maille,colonne_resultat,cle_geo,quantile_inf=0,quantile_sup=1, cmap_choice='viridis',val_alpha=0.75,colorbar_choice=True)\n",
    "fig, ax=ajouter_couche_point(fig, ax,df_global_avec_presence,carte_maille,col_valeur=col_valeur,cle_geo='codeMaille10Km',color_dot='black',size_dot=2,legend_choice=True)\n",
    "fig, ax=ajouter_couche_SIG(fig, ax,departement_gpd)\n",
    "#fig, ax=ajouter_couche_SIG(fig, ax,departement_gpd)\n",
    "ax.set_title(titre, fontsize=16)  # Taille de la police définie à 16\n",
    "fig.savefig(save_path+'/'+titre+'.png', dpi=300, bbox_inches='tight')  # Enregistre au format PNG avec une résolution de 300 DPI\n",
    "\n",
    "plt.show()\n"
   ]
  },
  {
   "cell_type": "code",
   "execution_count": null,
   "id": "2274407b-961d-4b2a-85df-37bad2735369",
   "metadata": {},
   "outputs": [],
   "source": [
    "# Chercher la relation entre le nombre prédit et le nombre réel\n",
    "from scipy.optimize import curve_fit\n",
    "\n",
    "# Exemple de noms de colonnes\n",
    "col_values_corr='nombreObs_norm_par_maille_et_regne'  # colonne dans df_complet_predit_espece\n",
    "col_values='nombreObs'\n",
    "colonne_predit = f\"{col_values_corr}_predit\" # colonne dans df_global_avec_presence\n",
    "df_global_avec_presence = df_global[(df_global['nomScientifique']==espece)]\n",
    "df_merge=pd.merge(df_global_avec_presence[['codeMaille10Km','nomScientifique','nombreObs',col_values_corr]], df_complet_predit_espece[['codeMaille10Km',colonne_predit]],on='codeMaille10Km', how='outer')\n",
    "df_merge = df_merge.fillna(0)\n",
    "df_merge=df_merge[df_merge['nombreObs']>=1]\n",
    "\n",
    "x = df_merge[col_values_corr].values\n",
    "y = df_merge[colonne_predit].values\n",
    "\n",
    "# Scatter plot\n",
    "plt.figure(figsize=(10, 6))\n",
    "plt.scatter(x, y, alpha=0.7, color='b', label='Données')\n",
    "\n",
    "# Appliquer l'échelle logarithmique sur les axes\n",
    "plt.xscale('log')  # Échelle logarithmique sur l'axe x\n",
    "plt.yscale('log')  # Échelle logarithmique sur l'axe y\n",
    "\n",
    "# Fonction de régression de type inverse\n",
    "def exponential_model(x, a, b):\n",
    "    return a * np.exp(b * x)\n",
    "\n",
    "# Fonction puissance\n",
    "def power_model(x, a, b):\n",
    "    return a * np.power(x, b)\n",
    "\n",
    "# Ajustement des paramètres a et b pour la régression puissance\n",
    "params, _ = curve_fit(power_model, x, y, maxfev=10000)\n",
    "a, b = params\n",
    "\n",
    "# Création des valeurs de y pour la courbe de tendance\n",
    "x_range = np.linspace(min(x), max(x), 100)\n",
    "y_trend = power_model(x_range, a, b)\n",
    "plt.plot(x_range, y_trend, color='r', label='Courbe de tendance puissance')\n",
    "\n",
    "\n",
    "# Ajout des labels et titre\n",
    "plt.xlabel(col_values_corr)\n",
    "plt.ylabel(colonne_predit)\n",
    "plt.title(f'Scatter Plot avec regression puissance de prédit en fonction de réel')\n",
    "plt.legend()\n",
    "plt.grid(True)\n",
    "plt.show()\n",
    "\n",
    "print(f'Les coefficient de la loi puissance de la forme a*x^b pour {espece} sont a={round(a,2)} et b={round(b,2)}')"
   ]
  },
  {
   "cell_type": "markdown",
   "id": "4d178158-84de-40b7-bca1-1e3e12b4ef28",
   "metadata": {},
   "source": [
    "## PREDICTION DE LA ZONE DE PRESENCE D'ESPECES"
   ]
  },
  {
   "cell_type": "code",
   "execution_count": null,
   "id": "351d3eea-6647-4ca3-9e93-6f651ad63393",
   "metadata": {},
   "outputs": [],
   "source": [
    "# définition du df_global\n",
    "df_global=filtrer_top(df_inpn,'nombreObs',1000)"
   ]
  },
  {
   "cell_type": "code",
   "execution_count": null,
   "id": "c0bdb9b7-434b-4719-a8f3-877c20ec1251",
   "metadata": {},
   "outputs": [],
   "source": [
    "# Importer la matrice de corrélation\n",
    "col_values_corr='nombreObs_norm_par_maille_et_regne'\n",
    "\n",
    "path='C:/Users/anormand/Documents/Projet Python/Biodiv/Data_intermed'\n",
    "\n",
    "mat_corr = pd.read_csv(path+ '/mat_corr_animalvegetal_1000.csv') # ward"
   ]
  },
  {
   "cell_type": "code",
   "execution_count": null,
   "id": "830292c7-0763-4a6f-8afb-699e25d1b201",
   "metadata": {},
   "outputs": [],
   "source": [
    "# Calculer la matrice de corrélation\n",
    "col_values_corr='nombreObs_norm_par_espece'\n",
    "\n",
    "mat_corr=calculer_matrice_correlation(df_global,col_values_corr,m='kendall')\n",
    "mat_corr= mat_corr.astype(float)"
   ]
  },
  {
   "cell_type": "code",
   "execution_count": null,
   "id": "d13b3090-65a3-4115-97cd-c69f1b6d752d",
   "metadata": {},
   "outputs": [],
   "source": [
    "# Sauvegarder les données\n",
    "path='C:/Users/anormand/Documents/Projet Python/Biodiv/Data_intermed'\n",
    "\n",
    "df_tosave = pd.DataFrame(mat_corr)\n",
    "df_tosave.to_csv(path+'/mat_corr/mat_corr_AnimalVegetalFungi_1000_kendall.csv', index=False)"
   ]
  },
  {
   "cell_type": "code",
   "execution_count": null,
   "id": "db94f2f2-f78f-4597-aa34-63950bfde092",
   "metadata": {
    "scrolled": true
   },
   "outputs": [],
   "source": [
    "# Completer le dataframe (global ou local)\n",
    "\n",
    "# Si travail global\n",
    "liste_codes_complet=df_global[cle_geo].unique()\n",
    "listes_codes=liste_codes_complet\n",
    "df_global_complet=completer_df(df_global,df_global)\n",
    "df_global_complet = df_global_complet.sort_values(by=cle_ID,ascending=True)\n",
    "\n",
    "# Si travail local\n",
    "#listes_codes=listes_codes_PN_Cevennes\n",
    "#df_local=df_global[(df_global['codeMaille10Km'].isin(listes_codes))]\n",
    "#df_local_complet=completer_df(df_local,df_global)\n",
    "#df_local_complet = df_local_complet.sort_values(by='nomScientifique',ascending=True)\n",
    "\n",
    "# Calculer la prédiction\n",
    "df_etude_complet=df_global_complet\n",
    "\n",
    "# Jalon 1 : début du processus\n",
    "start_time = time.time()\n",
    "\n",
    "# Utilisation de la fonction\n",
    "df_complet_predit=calculer_prediction(df_etude_complet,mat_corr, col_values_corr)\n",
    "\n",
    "# Calculer et afficher le temps écoulé\n",
    "end_time = time.time()\n",
    "elapsed_time = end_time - start_time\n",
    "print(f\"Temps écoulé: {elapsed_time:.2f} secondes\")"
   ]
  },
  {
   "cell_type": "code",
   "execution_count": null,
   "id": "1f211054-248a-43c7-9c25-c7d6fa5c6f48",
   "metadata": {},
   "outputs": [],
   "source": [
    "# Calculer la prédiction\n",
    "df_etude_complet=df_global_complet\n",
    "\n",
    "# Jalon 1 : début du processus\n",
    "start_time = time.time()\n",
    "\n",
    "# Utilisation de la fonction\n",
    "df_complet_predit=calculer_prediction(df_etude_complet, mat_corr,col_values_corr, cle_geo='codeMaille10Km',cle_ID='cdRef')\n",
    "\n",
    "# Calculer et afficher le temps écoulé\n",
    "end_time = time.time()\n",
    "elapsed_time = end_time - start_time\n",
    "print(f\"Temps écoulé: {elapsed_time:.2f} secondes\")"
   ]
  },
  {
   "cell_type": "code",
   "execution_count": null,
   "id": "63468793-f2dc-4275-ae0f-c0e59ed4cef5",
   "metadata": {},
   "outputs": [],
   "source": [
    "# Sauvegarder le dataframe avec les prédictions\n",
    "path='C:/Users/anormand/Documents/Projet Python/Biodiv/Data_intermed'\n",
    "\n",
    "df_tosave = pd.DataFrame(df_complet_predit)\n",
    "df_tosave.to_csv(path+'/df_predit/df_predit_animalvegetalfungi_1000_kendall.csv', index=False)"
   ]
  },
  {
   "cell_type": "code",
   "execution_count": null,
   "id": "a4d7c133-1f32-40e0-a986-974f092ef4d1",
   "metadata": {},
   "outputs": [],
   "source": [
    "# Importer un fichier df_complet_predit\n",
    "path='C:/Users/anormand/Documents/Projet Python/Biodiv/Data_intermed'\n",
    "\n",
    "df_complet_predit = pd.read_csv(path+ '/df_predit/df_predit_animalvegetalfungi_1000_kendall.csv') # ward"
   ]
  },
  {
   "cell_type": "code",
   "execution_count": null,
   "id": "0320b9e9-e9de-406a-8a36-04afd42ee8a7",
   "metadata": {},
   "outputs": [],
   "source": [
    "# Chercher les zones les plus adaptées à une espèce mais ou elle n'a pas été recensée\n",
    "espece='Sorex coronatus'\n",
    "n_sigma=1#1 pour animal, 2 pour plantes\n",
    "colormap='plasma'\n",
    "col_values_corr='nombreObs_norm_par_maille_et_regne'\n",
    "colonne_predit = f\"{col_values_corr}_predit\"\n",
    "seuil_observation=1\n",
    "\n",
    "# On filtre uniquement les lignes avec l'espèce concernant\n",
    "df_complet_predit_espece= df_complet_predit[(df_complet_predit['nomScientifique']==espece)]\n",
    "\n",
    "# Creer un seuil basé sur l'aire de répartition connue de l'espèce\n",
    "df_global_avec_presence = df_global[(df_global['nomScientifique']==espece)&(df_global['nombreObs']>=seuil_observation)]\n",
    "liste_mailles_avec_espece = df_global_avec_presence['codeMaille10Km'].unique()\n",
    "df_complet_predit_avec_presence=df_complet_predit_espece[(df_complet_predit_espece['codeMaille10Km'].isin(liste_mailles_avec_espece))]\n",
    "seuil_prediction=df_complet_predit_avec_presence[colonne_predit].mean()-n_sigma*df_complet_predit_avec_presence[colonne_predit].std()\n",
    "df_filt=df_complet_predit_espece[df_complet_predit_espece[colonne_predit]>=seuil_prediction]\n",
    "\n",
    "titre='Aire de répartition potentielle de '+espece\n",
    "\n",
    "fig, ax=configurer_carte('GeoportailSatellite',13,9)\n",
    "fig, ax=ajouter_couche_continue(fig, ax, df_filt,carte_maille,colonne_predit,cle_geo,quantile_inf=0,quantile_sup=0.99, cmap_choice='viridis',val_alpha=0.75,colorbar_choice=True)\n",
    "fig, ax=ajouter_couche_point(fig, ax,df_global_avec_presence,carte_maille,col_valeur=col_values_corr,cle_geo='codeMaille10Km',color_dot='orange',size_dot=2,legend_choice=True)\n",
    "fig, ax=ajouter_couche_SIG(fig, ax,departement_gpd)\n",
    "fig, ax=ax.set_title(titre, fontsize=16)"
   ]
  },
  {
   "cell_type": "code",
   "execution_count": null,
   "id": "391cdebd-0662-499d-aa76-882937c45f1e",
   "metadata": {},
   "outputs": [],
   "source": [
    "# Chercher la relation entre le nombre prédit et le nombre réel\n",
    "\n",
    "# Exemple de noms de colonnes\n",
    "col_values_corr='nombreObs_norm_par_maille_et_regne'  # colonne dans df_complet_predit_espece\n",
    "\n",
    "colonne_predit = f\"{col_values_corr}_predit\" # colonne dans df_global_avec_presence\n",
    "df_global_avec_presence = df_global[(df_global['nomScientifique']==espece)]\n",
    "df_merge=pd.merge(df_global_avec_presence[['codeMaille10Km','nomScientifique','nombreObs',col_values_corr]], df_complet_predit_espece[['codeMaille10Km',colonne_predit]],on='codeMaille10Km', how='outer')\n",
    "df_merge = df_merge.fillna(0)\n",
    "df_merge=df_merge[df_merge['nombreObs']>=1]\n",
    "\n",
    "x = df_merge[col_values_corr].values\n",
    "y = df_merge[colonne_predit].values\n",
    "\n",
    "# Scatter plot\n",
    "plt.figure(figsize=(10, 6))\n",
    "plt.scatter(x, y, alpha=0.7, color='b', label='Données')\n",
    "\n",
    "# Appliquer l'échelle logarithmique sur les axes\n",
    "#plt.xscale('log')  # Échelle logarithmique sur l'axe x\n",
    "#plt.yscale('log')  # Échelle logarithmique sur l'axe y\n",
    "\n",
    "# Fonction de régression de type inverse\n",
    "def exponential_model(x, a, b):\n",
    "    return a * np.exp(b * x)\n",
    "\n",
    "# Fonction puissance\n",
    "def power_model(x, a, b):\n",
    "    return a * np.power(x, b)\n",
    "\n",
    "# Ajustement des paramètres a et b pour la régression puissance\n",
    "params, _ = curve_fit(power_model, x, y, maxfev=10000)\n",
    "a, b = params\n",
    "\n",
    "# Création des valeurs de y pour la courbe de tendance\n",
    "x_range = np.linspace(min(x), max(x), 100)\n",
    "y_trend = power_model(x_range, a, b)\n",
    "plt.plot(x_range, y_trend, color='r', label='Courbe de tendance puissance')\n",
    "\n",
    "\n",
    "# Ajout des labels et titre\n",
    "plt.xlabel(col_values_corr)\n",
    "plt.ylabel(colonne_predit)\n",
    "plt.title(f'Scatter Plot avec regression puissance de prédit en fonction de réel')\n",
    "plt.legend()\n",
    "plt.grid(True)\n",
    "plt.show()\n",
    "\n",
    "print(f'Les coefficient de la loi puissance de la forme a*x^b pour {espece} sont a={round(a,2)} et b={round(b,2)}')"
   ]
  },
  {
   "cell_type": "markdown",
   "id": "7620208f-84e7-4135-b29d-d147fe08fc7a",
   "metadata": {},
   "source": [
    "## PREDICTION D'ESPECES PROBABLEMENT PRESENTES DANS UNE ZONE"
   ]
  },
  {
   "cell_type": "code",
   "execution_count": null,
   "id": "19c5d7cc-8114-4c9c-9233-4b6658ac87b6",
   "metadata": {},
   "outputs": [],
   "source": [
    "# Calculer la matrice de corrélation\n",
    "df_global=filtrer_top(df_inpn,'nombreObs',1000)\n",
    "\n",
    "col_values_corr='nombreObs_norm_par_maille_et_regne'\n",
    "mat_corr=correlation_matrix(df_global,col_values_corr,m='kendall')\n",
    "mat_corr= mat_corr.astype(float)"
   ]
  },
  {
   "cell_type": "code",
   "execution_count": null,
   "id": "e82f1a33-564b-4f66-b5c9-7546515971b4",
   "metadata": {},
   "outputs": [],
   "source": [
    "# Sauvegarder la matrice de corrélation\n",
    "path='C:/Users/anormand/Documents/Projet Python/Biodiv/Data_intermed'\n",
    "\n",
    "df_tosave = pd.DataFrame(mat_corr)\n",
    "df_tosave.to_csv(path+'/mat_corr/mat_corr_AnimalVegetal_1000_kendall.csv', index=False)"
   ]
  },
  {
   "cell_type": "code",
   "execution_count": null,
   "id": "20551b3c-c0fb-48d8-a391-03e8eb59c389",
   "metadata": {},
   "outputs": [],
   "source": [
    "# Importer la matrice de corrélation\n",
    "df_global=filtrer_top(df_inpn,'nombreObs',1000)\n",
    "\n",
    "path='C:/Users/anormand/Documents/Projet Python/Biodiv/Data_intermed/mat_corr'\n",
    "\n",
    "mat_corr = pd.read_csv(path+ '/mat_corr_AnimalVegetalFungi_1000_kendall.csv')"
   ]
  },
  {
   "cell_type": "code",
   "execution_count": null,
   "id": "1cf0772d-0c4c-48db-8baa-a621b85d6c1f",
   "metadata": {},
   "outputs": [],
   "source": [
    "# Chercher les espèces qui ont le plus de chance d'être dans une zone mais qui n'ont pourtant pas été recencées\n",
    "nom_parc='Vosges'\n",
    "parc_gpd=departement_gpd\n",
    "liste_codes=lister_mailles_dans_site(carte_maille,parc_gpd,nom_parc,taux_min=0.5,cle_geo='codeMaille10Km',cle_nom_site='nom',methode='contains')\n",
    "\n",
    "col_values_corr='nombreObs_norm_par_maille_et_regne'\n",
    "\n",
    "df_local=df_global[(df_global[cle_geo].isin(liste_codes))]\n",
    "df_local_complet=completer_df(df_local,df_global)\n",
    "df_local_complet = df_local_complet.sort_values(by=cle_ID,ascending=True)\n",
    "mat_corr.index = mat_corr.columns\n",
    "df_local_complet_predit=calculer_prediction(df_local_complet, mat_corr, col_values_corr)\n",
    "colonne_predit = f\"{col_values_corr}_predit\"\n",
    "df_local_especes_absentes=recherche_espece_absente(df_local_complet_predit,colonne_predit)\n",
    "df_local_especes_absentes[[colonne_predit]] = df_local_especes_absentes[[colonne_predit]].apply(lambda x: round(x, 1))\n",
    "\n",
    "afficher_dataframe(df_local_especes_absentes,[colonne_predit,'nomScientifique','nomVernaculaire','genre','famille','ordre','classe','regne','cdRef','especeProtegee']).head(20)"
   ]
  },
  {
   "cell_type": "code",
   "execution_count": null,
   "id": "80a37554-2f4c-4042-94ca-c7cedb6f003f",
   "metadata": {},
   "outputs": [],
   "source": [
    "liste_codes"
   ]
  },
  {
   "cell_type": "markdown",
   "id": "c19f041c-af69-4504-ae59-56f2edb51cf5",
   "metadata": {
    "collapsed": true,
    "jupyter": {
     "outputs_hidden": true
    }
   },
   "source": [
    "## Suivi temporel de la présence des espèces"
   ]
  },
  {
   "cell_type": "code",
   "execution_count": null,
   "id": "97b08414-93cc-44cf-a083-77dd9201e351",
   "metadata": {},
   "outputs": [],
   "source": [
    "# Suivi des espèces (ou autres clade) disparues entre période 1 et 2\n",
    "\n",
    "df_filt=df_arthropodes.copy()\n",
    "df_suivi_mailles = suivre_disparition_geo(df_filt,'cdRef',cle_geo)\n",
    "df_suivi_mailles.head(20)\n",
    "df_geo=departement_gpd\n",
    "\n",
    "col_valeur='taux_apparue'\n",
    "titre=col_valeur\n",
    "colormap='YlOrRd_r'\n",
    "fond_carte='GeoportailSatellite'\n",
    "afficher_carte_defaut(titre,df_suivi_mailles,df_geo=df_geo,couche_sig=departement_gpd,col_valeur=col_valeur,cle_geo=cle_geo,borne_min=0,borne_max=100,\n",
    "                           cmap_choice=colormap,basemap_type=fond_carte,save_path=None)\n",
    "\n",
    "col_valeur='taux_disparue'\n",
    "titre=f\"Taux de disparition des espèces d'arthropodes depuis l'an 2000\"\n",
    "colormap='YlOrRd'\n",
    "fond_carte='GeoportailSatellite'\n",
    "afficher_carte_defaut(titre,df_suivi_mailles,df_geo=df_geo,couche_sig=departement_gpd,col_valeur=col_valeur,cle_geo=cle_geo,borne_min=0,\n",
    "                           cmap_choice=colormap,basemap_type=fond_carte,save_path=None)\n",
    "\n",
    "afficher_carte_defaut('nombre d especes recenceees',df_filt,df_geo=df_geo,couche_sig=departement_gpd,col_valeur='nombreObs_unique',cle_geo=cle_geo,quantile_inf=0,quantile_sup=0.99,\n",
    "                           cmap_choice='viridis',basemap_type=fond_carte,save_path=None)"
   ]
  },
  {
   "cell_type": "code",
   "execution_count": null,
   "id": "c8686630-f9df-42f7-89c6-de72befa656d",
   "metadata": {},
   "outputs": [],
   "source": [
    "# Afficher la carte de l'évolution de l'aire de répartition d'un taxon\n",
    "taxon='Myocastor coypus'\n",
    "clade='nomScientifique'\n",
    "df_filt=df_inpn_periode[(df_inpn_periode[clade]==taxon)]\n",
    "df_filt=df_filt[[cle_geo, clade,'periode']].drop_duplicates().reset_index(drop=True)\n",
    "grouped = df_filt.groupby([cle_geo, clade])['periode'].apply(list).reset_index()\n",
    "\n",
    "# Appliquer la fonction pour créer la colonne 'statut'\n",
    "grouped['statut'] = grouped['periode'].apply(determiner_statut)\n",
    "# Garder seulement les colonnes nécessaires\n",
    "final_df = grouped[['codeMaille10Km', clade, 'statut']]\n",
    "\n",
    "titre=\"Statut de \"+taxon\n",
    "            \n",
    "statut_colors = {\n",
    "    \"Colonisation 1991-2010\": \"green\",\n",
    "    \"Colonisation 2011-2024\": \"lightgreen\",\n",
    "    \"Disparition 1801-1990\": \"red\",\n",
    "    \"Disparition 1991-2011\": \"orange\",\n",
    "    \"Présence 1991-2010 mais absent aujourd'hui\": \"yellow\",\n",
    "    \"Présence continue jusqu'à aujourd'hui\": \"blue\"\n",
    "}\n",
    "\n",
    "fig, ax=configurer_carte('GeoportailSatellite',13,9)\n",
    "fig, ax=ajouter_couche_statut(fig, ax, final_df, carte_maille, statut_colors,col_valeur='statut',cle_geo='codeMaille10Km', val_alpha=0.75, legend_choice=True)\n",
    "fig, ax=ajouter_couche_SIG(fig, ax,departement_gpd)\n",
    "ax.set_title(titre, fontsize=16)  # Taille de la police définie à 16\n",
    "fig.savefig(save_path+'/'+titre+'.png', dpi=300, bbox_inches='tight')  # Enregistre au format PNG avec une résolution de 300 DPI\n",
    "\n",
    "plt.show()"
   ]
  }
 ],
 "metadata": {
  "kernelspec": {
   "display_name": "Python 3 (ipykernel)",
   "language": "python",
   "name": "python3"
  },
  "language_info": {
   "codemirror_mode": {
    "name": "ipython",
    "version": 3
   },
   "file_extension": ".py",
   "mimetype": "text/x-python",
   "name": "python",
   "nbconvert_exporter": "python",
   "pygments_lexer": "ipython3",
   "version": "3.12.4"
  }
 },
 "nbformat": 4,
 "nbformat_minor": 5
}
