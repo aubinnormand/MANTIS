{
 "cells": [
  {
   "cell_type": "code",
   "execution_count": 54,
   "id": "27cd0c80",
   "metadata": {},
   "outputs": [],
   "source": [
    "import os \n",
    "import pandas as pd\n",
    "import importlib\n",
    "\n",
    "import formatage_donnees\n",
    "importlib.reload(formatage_donnees)\n",
    "from formatage_donnees import (\n",
    "    formater_maille_espece,\n",
    "    filtrer_donnees_brutes\n",
    ")\n"
   ]
  },
  {
   "cell_type": "code",
   "execution_count": null,
   "id": "aafa684a-d321-4fd7-aef5-6968f8971ef2",
   "metadata": {},
   "outputs": [],
   "source": [
    "#Visualiser toutes les colonnes\n",
    "chemin_fichier = 'C:/Users/anormand/Documents/Projet Python/Biodiv/Data/raw_inpn/extractINPN_reptiles_26042024.csv'\n",
    "dataframe  = pd.read_csv(chemin_fichier,dtype=str)\n",
    "liste_colonnes = df.columns.tolist()\n",
    "print(liste_colonnes)"
   ]
  },
  {
   "cell_type": "code",
   "execution_count": 55,
   "id": "b2fed952",
   "metadata": {
    "scrolled": true
   },
   "outputs": [
    {
     "name": "stdout",
     "output_type": "stream",
     "text": [
      "crustaces\n",
      "Le répertoire existe déjà à C:/Users/anormand/Documents/Projet Python/Biodiv/Data/format_observations\n",
      "En entrée : nombre d'espèces observées : 10885\n",
      "En entrée : nombre d'obs : 640602\n",
      "En sortie : nombre d'espèces observées :8887 soit une perte de 18%\n",
      "En sortie : nombre d'obs :493411 soit une perte de 23 %\n",
      "Temps d'exécution : 3 secondes\n",
      "\n"
     ]
    }
   ],
   "source": [
    "#Formatage des données brutes en filtrant les colonnes d'intéret et en nettoyant les données\n",
    "groupes=['mammiferes', 'crustaces', 'escargots', 'fonges', 'reptiles', 'insectes','poissons','plantes','autres','oiseaux']\n",
    "groupes=['crustaces']\n",
    "code_maille='codeMaille10Km'\n",
    "cle_ID='cdRef'\n",
    "\n",
    "colonnes_a_importer=['codeMaille10Km','codeInseeDepartement','observateur','dateObservation','latitude','longitude','systemeCoordonnees',\n",
    "                     'cdNom', 'cdRef', 'rangTaxo','nomVernaculaire','nomScientifiqueRef', 'genre', 'famille','ordre','classe','regne',\n",
    "                     'especeProtegee','statutBiogeoEspeceTaxref', 'habitatEspeceTaxref',\n",
    "                     'occSexe', 'occStadeDeVie']\n",
    "\n",
    "colonnes_obligatoires=[cle_ID,code_maille]\n",
    "\n",
    "for groupe in groupes:\n",
    "    print(groupe)\n",
    "    # Chemin vers le fichier\n",
    "    chemin_fichier = 'C:/Users/anormand/Documents/Projet Python/Biodiv/Data/raw_inpn/extractINPN_'+groupe+'_26042024.csv'\n",
    "\n",
    "    # Spécifiez le chemin du répertoire que vous souhaitez créer\n",
    "    nouveau_repertoire = 'C:/Users/anormand/Documents/Projet Python/Biodiv/Data/format_observations'\n",
    "\n",
    "    # Vérifiez si le répertoire n'existe pas déjà\n",
    "    if not os.path.exists(nouveau_repertoire):\n",
    "        # Si le répertoire n'existe pas, créez-le\n",
    "        os.makedirs(nouveau_repertoire)\n",
    "        print(\"Répertoire créé avec succès à\", nouveau_repertoire)\n",
    "    else:        print(\"Le répertoire existe déjà à\", nouveau_repertoire)\n",
    "        \n",
    "    df_brut  = pd.read_csv(chemin_fichier, usecols=colonnes_a_importer,dtype=str)\n",
    "    \n",
    "    df_filtered=filtrer_donnees_brutes(df_brut,groupe,'cdRef')\n",
    "    \n",
    "    df_filtered.to_csv(nouveau_repertoire+'/'+groupe+'.csv', index=False)\n"
   ]
  },
  {
   "cell_type": "code",
   "execution_count": 65,
   "id": "8f6dc975-edf8-4e16-8104-05da7b8de83c",
   "metadata": {},
   "outputs": [
    {
     "name": "stdout",
     "output_type": "stream",
     "text": [
      "mammiferes\n"
     ]
    },
    {
     "name": "stderr",
     "output_type": "stream",
     "text": [
      "C:\\Users\\anormand\\AppData\\Local\\Temp\\ipykernel_21792\\3934877260.py:23: DtypeWarning: Columns (15) have mixed types. Specify dtype option on import or set low_memory=False.\n",
      "  df_observations = pd.read_csv(chemin_fichier, usecols=colonnes_a_importer)\n"
     ]
    }
   ],
   "source": [
    "### Formatage des données : regroupe les observations par espèces, par maille de 10km, avec ou sans données temporelles\n",
    "groupes= ['mammiferes', 'crustaces', 'escargots', 'fonges', 'reptiles', 'insectes','poissons','plantes','oiseaux','autres']\n",
    "groupes= ['mammiferes']\n",
    "\n",
    "cle_geo='codeDepartement'\n",
    "cle_ID='cdRef'\n",
    "# Définir les colonnes à importer\n",
    "colonnes_a_importer = ['codeMaille10Km','codeInseeDepartement','year',\n",
    "                       'cdRef','nomVernaculaire','nomScientifique', 'genre', 'famille','ordre','classe','regne','all',\n",
    "                       'statutBiogeoEspeceTaxref', 'habitatEspeceTaxref','especeProtegee']\n",
    "\n",
    "annee_mini=1800\n",
    "bornes_temporelles=[1800, 2000, 2024] \n",
    "#bornes_temporelles=None\n",
    "\n",
    "for groupe in groupes:\n",
    "    print(groupe)\n",
    "    \n",
    "    chemin = r'C:\\Users\\anormand\\Documents\\Projet Python\\Biodiv\\Data\\format_observations'\n",
    "    fichier=groupe+'.csv'\n",
    "    chemin_fichier=chemin+'/'+fichier\n",
    "    # Lire le fichier CSV\n",
    "    df_observations = pd.read_csv(chemin_fichier, usecols=colonnes_a_importer)\n",
    "    df_maille_espece=formater_maille_espece(df_observations,cle_geo,cle_ID,annee_mini,bornes_temporelles)\n",
    "\n",
    "    #Enregistrer le fichier traité\n",
    "    \n",
    "    if bornes_temporelles is not None:        \n",
    "        df_maille_espece.to_csv('C:/Users/anormand/Documents/Projet Python/Biodiv/Data/format_'+cle_geo+'_espece_periode/data_INPN_'+cle_geo+'_periodes_'+groupe+'.csv', index=False)\n",
    "    else :\n",
    "        df_maille_espece.to_csv('C:/Users/anormand/Documents/Projet Python/Biodiv/Data/format_'+cle_geo+'_espece/data_INPN_'+code_maille+'_min'+str(annee_mini)+'_'+groupe+'_.csv', index=False)\n",
    "    "
   ]
  },
  {
   "cell_type": "code",
   "execution_count": 66,
   "id": "adedd317-5468-47df-8a0d-f7dddddd9094",
   "metadata": {},
   "outputs": [],
   "source": [
    "import matplotlib.pyplot as plt\n",
    "%matplotlib qt\n",
    "plt.rcParams['font.family'] = 'serif'\n",
    "plt.rcParams['font.serif'] = ['Times New Roman']\n",
    "plt.rcParams.update({'font.size': 20})\n",
    "\n",
    "# Créer l'histogramme de la colonne 'year'\n",
    "plt.figure(figsize=(10, 6))\n",
    "plt.hist(df_observations['year'], bins=50, color='red', edgecolor='black')\n",
    "plt.xlabel('Année')\n",
    "plt.ylabel('Nombre d\\'observations')\n",
    "plt.title('Histogramme des observations de mammifères par année')\n",
    "plt.show()"
   ]
  },
  {
   "cell_type": "code",
   "execution_count": 73,
   "id": "d2f8894b-dbdb-4b3b-b819-ce27cfb2ff37",
   "metadata": {},
   "outputs": [],
   "source": [
    "import matplotlib.pyplot as plt\n",
    "\n",
    "# Créer l'histogramme de la colonne 'year' pour la période 1950-2024\n",
    "plt.figure(figsize=(10, 6))\n",
    "plt.hist(df_observations['year'], bins=45, range=(1970, 2024), color='red', edgecolor='black')\n",
    "\n",
    "# Ajuster les limites des axes et supprimer les labels et le titre\n",
    "plt.xlim(1970, 2024)\n",
    "plt.gca().set_xticks([1970,1980, 1990,2000, 2010,2020])  # Optionnel : Réduire le nombre de graduations en x\n",
    "plt.gca().set_yticks([])  # Supprimer les graduations sur l'axe y\n",
    "plt.gca().set_xlabel('')  # Retirer le label de l'axe x\n",
    "plt.gca().set_ylabel('')  # Retirer le label de l'axe y\n",
    "plt.gca().set_title('')   # Retirer le titre\n",
    "\n",
    "plt.show()\n"
   ]
  },
  {
   "cell_type": "code",
   "execution_count": null,
   "id": "a5dca600-814f-4bdb-b430-849113a6f9b7",
   "metadata": {},
   "outputs": [],
   "source": []
  },
  {
   "cell_type": "code",
   "execution_count": null,
   "id": "d4d0b5cd-4ca5-4232-b5d1-aefe5831c33d",
   "metadata": {},
   "outputs": [],
   "source": []
  }
 ],
 "metadata": {
  "kernelspec": {
   "display_name": "Python 3 (ipykernel)",
   "language": "python",
   "name": "python3"
  },
  "language_info": {
   "codemirror_mode": {
    "name": "ipython",
    "version": 3
   },
   "file_extension": ".py",
   "mimetype": "text/x-python",
   "name": "python",
   "nbconvert_exporter": "python",
   "pygments_lexer": "ipython3",
   "version": "3.12.4"
  }
 },
 "nbformat": 4,
 "nbformat_minor": 5
}
